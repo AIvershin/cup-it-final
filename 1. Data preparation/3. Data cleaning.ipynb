{
 "cells": [
  {
   "cell_type": "code",
   "execution_count": 5,
   "id": "359a8c80",
   "metadata": {},
   "outputs": [],
   "source": [
    "import pandas as pd\n",
    "import numpy as np\n",
    "\n",
    "from sklearn.cluster import DBSCAN, OPTICS\n",
    "from sklearn.model_selection import train_test_split\n",
    "from sklearn.preprocessing import StandardScaler\n",
    "from sklearn.decomposition import PCA\n",
    "from sklearn.metrics import roc_auc_score,fbeta_score, f1_score, accuracy_score, recall_score, precision_score, confusion_matrix\n",
    "\n",
    "from catboost import CatBoostClassifier\n",
    "import shap"
   ]
  },
  {
   "cell_type": "markdown",
   "id": "9d172dfc",
   "metadata": {},
   "source": [
    "## Определяем типы переменных"
   ]
  },
  {
   "cell_type": "code",
   "execution_count": 8,
   "id": "3fb7251e",
   "metadata": {},
   "outputs": [],
   "source": [
    "data = pd.read_csv('df_promejut.csv')\n",
    "\n",
    "#отбираем строковые переменные (КАТЕГОРИАЛЬНЫЕ)\n",
    "xxx = data.select_dtypes(include = 'object')\n",
    "xxx.head()\n",
    "\n",
    "'''\n",
    "смотрим: client_id - не признак\n",
    "dt - дата\n",
    "остальные: категориальные.\n",
    "Правда, среди них могут быть и бинарные признаки. Выделим их:\n",
    "'''\n",
    "trash = ['client_id']\n",
    "dates = ['dt']\n",
    "xxx_categoricals = list(set(xxx.columns) - set(trash) - set(dates))\n",
    "\n",
    "binaries = []\n",
    "categoricals = []\n",
    "for fea in xxx_categoricals:\n",
    "    l = len(data[fea].value_counts())\n",
    "    if l == 2:\n",
    "        binaries.append(fea)\n",
    "    elif l <= 1:\n",
    "        trash.append(fea)\n",
    "    else: #больше 2 уникальных значений за исключением nan\n",
    "        categoricals.append(fea)\n",
    "    \n",
    "#отбираем числовые переменные\n",
    "xxx = data.select_dtypes(include = 'number')\n",
    "xxx.head()\n",
    "\n",
    "'''\n",
    "И как следовало ожидать, остальные 284 - числовые\n",
    "target - исключаем из рассмотрения\n",
    "'''\n",
    "xxx.drop('target', axis = 1, inplace = True)\n",
    "trash.append('target')\n",
    "\n",
    "continuous = []\n",
    "for fea in xxx.columns:\n",
    "    l = len(data[fea].value_counts())\n",
    "    if l == 2:\n",
    "        binaries.append(fea)\n",
    "    elif l <= 1:\n",
    "        trash.append(fea)\n",
    "    elif l>2 and l<=10: #больше 2 уникальных значений, но не более 10 за исключением nan\n",
    "        categoricals.append(fea)\n",
    "    else:\n",
    "        continuous.append(fea)\n",
    "\n",
    "categoricals.remove('hdb_bki_total_currency')\n",
    "categoricals.remove('hdb_bki_active_oth_cnt')\n",
    "continuous.append('hdb_bki_total_currency')\n",
    "continuous.append('hdb_bki_active_oth_cnt')\n",
    "\n",
    "del data\n",
    "\n",
    "# '''\n",
    "# НА ВЫХОДЕ:\n",
    "\n",
    "# binaries - бинарные признаки\n",
    "# categoricals - категориальные признаки\n",
    "# continuous - непрерывные признаки\n",
    "# dates - даты\n",
    "# trash - мусор\n",
    "# '''"
   ]
  },
  {
   "cell_type": "markdown",
   "id": "bebe31ee",
   "metadata": {},
   "source": [
    "## Заполням пропуски"
   ]
  },
  {
   "cell_type": "code",
   "execution_count": null,
   "id": "a1505313",
   "metadata": {},
   "outputs": [],
   "source": [
    "df = pd.read_csv('df_promejut.csv')"
   ]
  },
  {
   "cell_type": "markdown",
   "id": "c0ad171b",
   "metadata": {},
   "source": [
    "Удалим строки с NA"
   ]
  },
  {
   "cell_type": "code",
   "execution_count": 4,
   "id": "c9d897e9",
   "metadata": {},
   "outputs": [
    {
     "data": {
      "text/html": [
       "<div>\n",
       "<style scoped>\n",
       "    .dataframe tbody tr th:only-of-type {\n",
       "        vertical-align: middle;\n",
       "    }\n",
       "\n",
       "    .dataframe tbody tr th {\n",
       "        vertical-align: top;\n",
       "    }\n",
       "\n",
       "    .dataframe thead th {\n",
       "        text-align: right;\n",
       "    }\n",
       "</style>\n",
       "<table border=\"1\" class=\"dataframe\">\n",
       "  <thead>\n",
       "    <tr style=\"text-align: right;\">\n",
       "      <th></th>\n",
       "      <th>client_id</th>\n",
       "      <th>dt</th>\n",
       "      <th>accountsalary_flag</th>\n",
       "      <th>country</th>\n",
       "      <th>profit_income_out_rur_amt_6m</th>\n",
       "      <th>clientoutflowstatus</th>\n",
       "      <th>curbal_usd_amt_cm_avg</th>\n",
       "      <th>stratsegfactor</th>\n",
       "      <th>srvpackage</th>\n",
       "      <th>clientsegment</th>\n",
       "      <th>...</th>\n",
       "      <th>transaction_category_cash_percent_cnt_2m</th>\n",
       "      <th>transaction_category_hotels_sum_cnt_m2</th>\n",
       "      <th>transaction_category_sporting_goods_inc_amt_2m</th>\n",
       "      <th>transaction_category_airplane_tickets_percent_amt_2m</th>\n",
       "      <th>transaction_category_transport_percent_amt_2m</th>\n",
       "      <th>transaction_category_restaurants_percent_amt_2m</th>\n",
       "      <th>transaction_category_auto_services_percent_amt_2m</th>\n",
       "      <th>transaction_category_supermarket_sum_cnt_m2</th>\n",
       "      <th>transaction_category_auto_services_sum_cnt_m2</th>\n",
       "      <th>target</th>\n",
       "    </tr>\n",
       "  </thead>\n",
       "  <tbody>\n",
       "    <tr>\n",
       "      <th>11</th>\n",
       "      <td>253b139f225a1206fcee5d69e30bc4c0914c48c31d6d06...</td>\n",
       "      <td>2021-08-31</td>\n",
       "      <td>NaN</td>\n",
       "      <td>NaN</td>\n",
       "      <td>NaN</td>\n",
       "      <td>NaN</td>\n",
       "      <td>NaN</td>\n",
       "      <td>NaN</td>\n",
       "      <td>NaN</td>\n",
       "      <td>NaN</td>\n",
       "      <td>...</td>\n",
       "      <td>NaN</td>\n",
       "      <td>NaN</td>\n",
       "      <td>NaN</td>\n",
       "      <td>NaN</td>\n",
       "      <td>NaN</td>\n",
       "      <td>NaN</td>\n",
       "      <td>NaN</td>\n",
       "      <td>NaN</td>\n",
       "      <td>NaN</td>\n",
       "      <td>0.0</td>\n",
       "    </tr>\n",
       "    <tr>\n",
       "      <th>18</th>\n",
       "      <td>0176c793b0c90c07d928dde2bf6c6736da7e110e4aa622...</td>\n",
       "      <td>2021-06-30</td>\n",
       "      <td>NaN</td>\n",
       "      <td>NaN</td>\n",
       "      <td>NaN</td>\n",
       "      <td>NaN</td>\n",
       "      <td>NaN</td>\n",
       "      <td>NaN</td>\n",
       "      <td>NaN</td>\n",
       "      <td>NaN</td>\n",
       "      <td>...</td>\n",
       "      <td>NaN</td>\n",
       "      <td>NaN</td>\n",
       "      <td>NaN</td>\n",
       "      <td>NaN</td>\n",
       "      <td>NaN</td>\n",
       "      <td>NaN</td>\n",
       "      <td>NaN</td>\n",
       "      <td>NaN</td>\n",
       "      <td>NaN</td>\n",
       "      <td>0.0</td>\n",
       "    </tr>\n",
       "    <tr>\n",
       "      <th>21</th>\n",
       "      <td>27aaa655aa279c4f325827610cf42b989b724d8af5abd9...</td>\n",
       "      <td>2021-02-28</td>\n",
       "      <td>NaN</td>\n",
       "      <td>NaN</td>\n",
       "      <td>NaN</td>\n",
       "      <td>NaN</td>\n",
       "      <td>NaN</td>\n",
       "      <td>NaN</td>\n",
       "      <td>NaN</td>\n",
       "      <td>NaN</td>\n",
       "      <td>...</td>\n",
       "      <td>NaN</td>\n",
       "      <td>NaN</td>\n",
       "      <td>NaN</td>\n",
       "      <td>NaN</td>\n",
       "      <td>NaN</td>\n",
       "      <td>NaN</td>\n",
       "      <td>NaN</td>\n",
       "      <td>NaN</td>\n",
       "      <td>NaN</td>\n",
       "      <td>0.0</td>\n",
       "    </tr>\n",
       "    <tr>\n",
       "      <th>80</th>\n",
       "      <td>4b476be0765aae37cde3e4c297a94438b8e3b1f4abffe6...</td>\n",
       "      <td>2021-10-31</td>\n",
       "      <td>NaN</td>\n",
       "      <td>NaN</td>\n",
       "      <td>NaN</td>\n",
       "      <td>NaN</td>\n",
       "      <td>NaN</td>\n",
       "      <td>NaN</td>\n",
       "      <td>NaN</td>\n",
       "      <td>NaN</td>\n",
       "      <td>...</td>\n",
       "      <td>NaN</td>\n",
       "      <td>NaN</td>\n",
       "      <td>NaN</td>\n",
       "      <td>NaN</td>\n",
       "      <td>NaN</td>\n",
       "      <td>NaN</td>\n",
       "      <td>NaN</td>\n",
       "      <td>NaN</td>\n",
       "      <td>NaN</td>\n",
       "      <td>0.0</td>\n",
       "    </tr>\n",
       "    <tr>\n",
       "      <th>112</th>\n",
       "      <td>be74c0eed79feea5d6799eae5260bb6c96036f78d17dcb...</td>\n",
       "      <td>2021-09-30</td>\n",
       "      <td>NaN</td>\n",
       "      <td>NaN</td>\n",
       "      <td>NaN</td>\n",
       "      <td>NaN</td>\n",
       "      <td>NaN</td>\n",
       "      <td>NaN</td>\n",
       "      <td>NaN</td>\n",
       "      <td>NaN</td>\n",
       "      <td>...</td>\n",
       "      <td>NaN</td>\n",
       "      <td>NaN</td>\n",
       "      <td>NaN</td>\n",
       "      <td>NaN</td>\n",
       "      <td>NaN</td>\n",
       "      <td>NaN</td>\n",
       "      <td>NaN</td>\n",
       "      <td>NaN</td>\n",
       "      <td>NaN</td>\n",
       "      <td>0.0</td>\n",
       "    </tr>\n",
       "    <tr>\n",
       "      <th>...</th>\n",
       "      <td>...</td>\n",
       "      <td>...</td>\n",
       "      <td>...</td>\n",
       "      <td>...</td>\n",
       "      <td>...</td>\n",
       "      <td>...</td>\n",
       "      <td>...</td>\n",
       "      <td>...</td>\n",
       "      <td>...</td>\n",
       "      <td>...</td>\n",
       "      <td>...</td>\n",
       "      <td>...</td>\n",
       "      <td>...</td>\n",
       "      <td>...</td>\n",
       "      <td>...</td>\n",
       "      <td>...</td>\n",
       "      <td>...</td>\n",
       "      <td>...</td>\n",
       "      <td>...</td>\n",
       "      <td>...</td>\n",
       "      <td>...</td>\n",
       "    </tr>\n",
       "    <tr>\n",
       "      <th>252677</th>\n",
       "      <td>a6ab1e3458ddc0da67ea317c0dcdb625d85f67c0ed1b5b...</td>\n",
       "      <td>2022-04-30</td>\n",
       "      <td>NaN</td>\n",
       "      <td>NaN</td>\n",
       "      <td>NaN</td>\n",
       "      <td>NaN</td>\n",
       "      <td>NaN</td>\n",
       "      <td>NaN</td>\n",
       "      <td>NaN</td>\n",
       "      <td>NaN</td>\n",
       "      <td>...</td>\n",
       "      <td>NaN</td>\n",
       "      <td>NaN</td>\n",
       "      <td>NaN</td>\n",
       "      <td>NaN</td>\n",
       "      <td>NaN</td>\n",
       "      <td>NaN</td>\n",
       "      <td>NaN</td>\n",
       "      <td>NaN</td>\n",
       "      <td>NaN</td>\n",
       "      <td>1.0</td>\n",
       "    </tr>\n",
       "    <tr>\n",
       "      <th>252679</th>\n",
       "      <td>4500fa926a64fbbf1682c9d22353a9bcb6bb5de5d3da6f...</td>\n",
       "      <td>2021-06-30</td>\n",
       "      <td>NaN</td>\n",
       "      <td>NaN</td>\n",
       "      <td>NaN</td>\n",
       "      <td>NaN</td>\n",
       "      <td>NaN</td>\n",
       "      <td>NaN</td>\n",
       "      <td>NaN</td>\n",
       "      <td>NaN</td>\n",
       "      <td>...</td>\n",
       "      <td>NaN</td>\n",
       "      <td>NaN</td>\n",
       "      <td>NaN</td>\n",
       "      <td>NaN</td>\n",
       "      <td>NaN</td>\n",
       "      <td>NaN</td>\n",
       "      <td>NaN</td>\n",
       "      <td>NaN</td>\n",
       "      <td>NaN</td>\n",
       "      <td>1.0</td>\n",
       "    </tr>\n",
       "    <tr>\n",
       "      <th>252680</th>\n",
       "      <td>dc465cd303afb7387fd49f699c034ecd39f7b6d7ea56d3...</td>\n",
       "      <td>2022-05-31</td>\n",
       "      <td>NaN</td>\n",
       "      <td>NaN</td>\n",
       "      <td>NaN</td>\n",
       "      <td>NaN</td>\n",
       "      <td>NaN</td>\n",
       "      <td>NaN</td>\n",
       "      <td>NaN</td>\n",
       "      <td>NaN</td>\n",
       "      <td>...</td>\n",
       "      <td>NaN</td>\n",
       "      <td>NaN</td>\n",
       "      <td>NaN</td>\n",
       "      <td>NaN</td>\n",
       "      <td>NaN</td>\n",
       "      <td>NaN</td>\n",
       "      <td>NaN</td>\n",
       "      <td>NaN</td>\n",
       "      <td>NaN</td>\n",
       "      <td>1.0</td>\n",
       "    </tr>\n",
       "    <tr>\n",
       "      <th>252693</th>\n",
       "      <td>643b1ea29c7e2a6d9429d89a8cfd3278b56c32d4098ae0...</td>\n",
       "      <td>2021-07-31</td>\n",
       "      <td>NaN</td>\n",
       "      <td>NaN</td>\n",
       "      <td>NaN</td>\n",
       "      <td>NaN</td>\n",
       "      <td>NaN</td>\n",
       "      <td>NaN</td>\n",
       "      <td>NaN</td>\n",
       "      <td>NaN</td>\n",
       "      <td>...</td>\n",
       "      <td>NaN</td>\n",
       "      <td>NaN</td>\n",
       "      <td>NaN</td>\n",
       "      <td>NaN</td>\n",
       "      <td>NaN</td>\n",
       "      <td>NaN</td>\n",
       "      <td>NaN</td>\n",
       "      <td>NaN</td>\n",
       "      <td>NaN</td>\n",
       "      <td>1.0</td>\n",
       "    </tr>\n",
       "    <tr>\n",
       "      <th>252795</th>\n",
       "      <td>241ca3003f3bde903d331a4220796d52d675b421da8f01...</td>\n",
       "      <td>2021-03-31</td>\n",
       "      <td>NaN</td>\n",
       "      <td>NaN</td>\n",
       "      <td>NaN</td>\n",
       "      <td>NaN</td>\n",
       "      <td>NaN</td>\n",
       "      <td>NaN</td>\n",
       "      <td>NaN</td>\n",
       "      <td>NaN</td>\n",
       "      <td>...</td>\n",
       "      <td>NaN</td>\n",
       "      <td>NaN</td>\n",
       "      <td>NaN</td>\n",
       "      <td>NaN</td>\n",
       "      <td>NaN</td>\n",
       "      <td>NaN</td>\n",
       "      <td>NaN</td>\n",
       "      <td>NaN</td>\n",
       "      <td>NaN</td>\n",
       "      <td>1.0</td>\n",
       "    </tr>\n",
       "  </tbody>\n",
       "</table>\n",
       "<p>67314 rows × 294 columns</p>\n",
       "</div>"
      ],
      "text/plain": [
       "                                                client_id          dt  \\\n",
       "11      253b139f225a1206fcee5d69e30bc4c0914c48c31d6d06...  2021-08-31   \n",
       "18      0176c793b0c90c07d928dde2bf6c6736da7e110e4aa622...  2021-06-30   \n",
       "21      27aaa655aa279c4f325827610cf42b989b724d8af5abd9...  2021-02-28   \n",
       "80      4b476be0765aae37cde3e4c297a94438b8e3b1f4abffe6...  2021-10-31   \n",
       "112     be74c0eed79feea5d6799eae5260bb6c96036f78d17dcb...  2021-09-30   \n",
       "...                                                   ...         ...   \n",
       "252677  a6ab1e3458ddc0da67ea317c0dcdb625d85f67c0ed1b5b...  2022-04-30   \n",
       "252679  4500fa926a64fbbf1682c9d22353a9bcb6bb5de5d3da6f...  2021-06-30   \n",
       "252680  dc465cd303afb7387fd49f699c034ecd39f7b6d7ea56d3...  2022-05-31   \n",
       "252693  643b1ea29c7e2a6d9429d89a8cfd3278b56c32d4098ae0...  2021-07-31   \n",
       "252795  241ca3003f3bde903d331a4220796d52d675b421da8f01...  2021-03-31   \n",
       "\n",
       "        accountsalary_flag country  profit_income_out_rur_amt_6m  \\\n",
       "11                     NaN     NaN                           NaN   \n",
       "18                     NaN     NaN                           NaN   \n",
       "21                     NaN     NaN                           NaN   \n",
       "80                     NaN     NaN                           NaN   \n",
       "112                    NaN     NaN                           NaN   \n",
       "...                    ...     ...                           ...   \n",
       "252677                 NaN     NaN                           NaN   \n",
       "252679                 NaN     NaN                           NaN   \n",
       "252680                 NaN     NaN                           NaN   \n",
       "252693                 NaN     NaN                           NaN   \n",
       "252795                 NaN     NaN                           NaN   \n",
       "\n",
       "       clientoutflowstatus  curbal_usd_amt_cm_avg stratsegfactor srvpackage  \\\n",
       "11                     NaN                    NaN            NaN        NaN   \n",
       "18                     NaN                    NaN            NaN        NaN   \n",
       "21                     NaN                    NaN            NaN        NaN   \n",
       "80                     NaN                    NaN            NaN        NaN   \n",
       "112                    NaN                    NaN            NaN        NaN   \n",
       "...                    ...                    ...            ...        ...   \n",
       "252677                 NaN                    NaN            NaN        NaN   \n",
       "252679                 NaN                    NaN            NaN        NaN   \n",
       "252680                 NaN                    NaN            NaN        NaN   \n",
       "252693                 NaN                    NaN            NaN        NaN   \n",
       "252795                 NaN                    NaN            NaN        NaN   \n",
       "\n",
       "       clientsegment  ...  transaction_category_cash_percent_cnt_2m  \\\n",
       "11               NaN  ...                                       NaN   \n",
       "18               NaN  ...                                       NaN   \n",
       "21               NaN  ...                                       NaN   \n",
       "80               NaN  ...                                       NaN   \n",
       "112              NaN  ...                                       NaN   \n",
       "...              ...  ...                                       ...   \n",
       "252677           NaN  ...                                       NaN   \n",
       "252679           NaN  ...                                       NaN   \n",
       "252680           NaN  ...                                       NaN   \n",
       "252693           NaN  ...                                       NaN   \n",
       "252795           NaN  ...                                       NaN   \n",
       "\n",
       "       transaction_category_hotels_sum_cnt_m2  \\\n",
       "11                                        NaN   \n",
       "18                                        NaN   \n",
       "21                                        NaN   \n",
       "80                                        NaN   \n",
       "112                                       NaN   \n",
       "...                                       ...   \n",
       "252677                                    NaN   \n",
       "252679                                    NaN   \n",
       "252680                                    NaN   \n",
       "252693                                    NaN   \n",
       "252795                                    NaN   \n",
       "\n",
       "       transaction_category_sporting_goods_inc_amt_2m  \\\n",
       "11                                                NaN   \n",
       "18                                                NaN   \n",
       "21                                                NaN   \n",
       "80                                                NaN   \n",
       "112                                               NaN   \n",
       "...                                               ...   \n",
       "252677                                            NaN   \n",
       "252679                                            NaN   \n",
       "252680                                            NaN   \n",
       "252693                                            NaN   \n",
       "252795                                            NaN   \n",
       "\n",
       "        transaction_category_airplane_tickets_percent_amt_2m  \\\n",
       "11                                                    NaN      \n",
       "18                                                    NaN      \n",
       "21                                                    NaN      \n",
       "80                                                    NaN      \n",
       "112                                                   NaN      \n",
       "...                                                   ...      \n",
       "252677                                                NaN      \n",
       "252679                                                NaN      \n",
       "252680                                                NaN      \n",
       "252693                                                NaN      \n",
       "252795                                                NaN      \n",
       "\n",
       "        transaction_category_transport_percent_amt_2m  \\\n",
       "11                                                NaN   \n",
       "18                                                NaN   \n",
       "21                                                NaN   \n",
       "80                                                NaN   \n",
       "112                                               NaN   \n",
       "...                                               ...   \n",
       "252677                                            NaN   \n",
       "252679                                            NaN   \n",
       "252680                                            NaN   \n",
       "252693                                            NaN   \n",
       "252795                                            NaN   \n",
       "\n",
       "        transaction_category_restaurants_percent_amt_2m  \\\n",
       "11                                                  NaN   \n",
       "18                                                  NaN   \n",
       "21                                                  NaN   \n",
       "80                                                  NaN   \n",
       "112                                                 NaN   \n",
       "...                                                 ...   \n",
       "252677                                              NaN   \n",
       "252679                                              NaN   \n",
       "252680                                              NaN   \n",
       "252693                                              NaN   \n",
       "252795                                              NaN   \n",
       "\n",
       "        transaction_category_auto_services_percent_amt_2m  \\\n",
       "11                                                    NaN   \n",
       "18                                                    NaN   \n",
       "21                                                    NaN   \n",
       "80                                                    NaN   \n",
       "112                                                   NaN   \n",
       "...                                                   ...   \n",
       "252677                                                NaN   \n",
       "252679                                                NaN   \n",
       "252680                                                NaN   \n",
       "252693                                                NaN   \n",
       "252795                                                NaN   \n",
       "\n",
       "        transaction_category_supermarket_sum_cnt_m2  \\\n",
       "11                                              NaN   \n",
       "18                                              NaN   \n",
       "21                                              NaN   \n",
       "80                                              NaN   \n",
       "112                                             NaN   \n",
       "...                                             ...   \n",
       "252677                                          NaN   \n",
       "252679                                          NaN   \n",
       "252680                                          NaN   \n",
       "252693                                          NaN   \n",
       "252795                                          NaN   \n",
       "\n",
       "        transaction_category_auto_services_sum_cnt_m2  target  \n",
       "11                                                NaN     0.0  \n",
       "18                                                NaN     0.0  \n",
       "21                                                NaN     0.0  \n",
       "80                                                NaN     0.0  \n",
       "112                                               NaN     0.0  \n",
       "...                                               ...     ...  \n",
       "252677                                            NaN     1.0  \n",
       "252679                                            NaN     1.0  \n",
       "252680                                            NaN     1.0  \n",
       "252693                                            NaN     1.0  \n",
       "252795                                            NaN     1.0  \n",
       "\n",
       "[67314 rows x 294 columns]"
      ]
     },
     "execution_count": 4,
     "metadata": {},
     "output_type": "execute_result"
    }
   ],
   "source": [
    "df[df['gender'].isna()]"
   ]
  },
  {
   "cell_type": "code",
   "execution_count": null,
   "id": "2a749d21",
   "metadata": {},
   "outputs": [],
   "source": [
    "df.dropna(subset=['gender', 'accountsalary_flag'], inplace=True)"
   ]
  },
  {
   "cell_type": "code",
   "execution_count": null,
   "id": "7dbf5be5",
   "metadata": {},
   "outputs": [],
   "source": [
    "number_list = list(set(continuous).union(set(binaries)))\n",
    "\n",
    "for i in number_list:\n",
    "    if 'amount' in i or 'avg_' in i or 'profit_' in i or 'amt' in i or 'sum' in i or 'transaction' in i or 'cnt' in i or 'count' in i or 'diff' in i or 'active' in i or 'limit' in i or 'total_currency' in i or  'total_products' in i:\n",
    "        df[i]=df[i].fillna(0)\n",
    "        \n",
    "for i in number_list:\n",
    "    if 'life_time_days' in i:\n",
    "        df[i]=df[i].fillna(0)\n",
    "\n",
    "for i in number_list:\n",
    "    if 'days' in i:\n",
    "        df[i]=df[i].fillna(value=df[i].max()+1)\n",
    "        \n",
    "for i in number_list:\n",
    "    if 'age' in i or 'total_inc' in i:\n",
    "        df[i]=df[i].fillna(value=df[i].median())\n",
    "        \n",
    "for i in categoricals:\n",
    "        df[i]=df[i].fillna(value='NA')\n",
    "        \n",
    "assert df.isna().sum().sum() == 0"
   ]
  },
  {
   "cell_type": "markdown",
   "id": "17751e97",
   "metadata": {},
   "source": [
    "## Делим на трейн и тест"
   ]
  },
  {
   "cell_type": "code",
   "execution_count": null,
   "id": "7f75c389",
   "metadata": {},
   "outputs": [],
   "source": [
    "X = df.drop('target', axis = 1)\n",
    "Y = df['target']"
   ]
  },
  {
   "cell_type": "code",
   "execution_count": null,
   "id": "42948e54",
   "metadata": {},
   "outputs": [],
   "source": [
    "rng = np.random.RandomState(0)\n",
    "\n",
    "X_train,X_test,y_train, y_test=train_test_split(X,Y,random_state=rng,stratify=Y) \n",
    "\n",
    "df_train = X_train.copy()\n",
    "df_train['target']=y_train.copy()\n",
    "df_test = X_test.copy()\n",
    "df_test['target']=y_test.copy()\n",
    "\n",
    "df_train.to_csv('df_train.csv',index=False)\n",
    "df_test.to_csv('df_test.csv',index=False)"
   ]
  },
  {
   "cell_type": "markdown",
   "id": "71edc467",
   "metadata": {},
   "source": [
    "## Ищем аномалии в трейне"
   ]
  },
  {
   "cell_type": "code",
   "execution_count": null,
   "id": "49282c38",
   "metadata": {},
   "outputs": [],
   "source": [
    "X = df_train[continuous]"
   ]
  },
  {
   "cell_type": "code",
   "execution_count": null,
   "id": "a0b7f91e",
   "metadata": {},
   "outputs": [],
   "source": [
    "scaler = StandardScaler()\n",
    "X = scaler.fit_transform(X)"
   ]
  },
  {
   "cell_type": "code",
   "execution_count": null,
   "id": "c68bb870",
   "metadata": {},
   "outputs": [],
   "source": [
    "X=pd.DataFrame(X)\n",
    "X.index = ind_x"
   ]
  },
  {
   "cell_type": "code",
   "execution_count": null,
   "id": "bf3c6096",
   "metadata": {},
   "outputs": [
    {
     "data": {
      "application/vnd.jupyter.widget-view+json": {
       "model_id": "90a33505733c44d390665c83cfd12b08",
       "version_major": 2,
       "version_minor": 0
      },
      "text/plain": [
       "  0%|          | 0/1 [00:00<?, ?it/s]"
      ]
     },
     "metadata": {},
     "output_type": "display_data"
    },
    {
     "data": {
      "application/vnd.jupyter.widget-view+json": {
       "model_id": "30d313414e9942ed993095ef282d472e",
       "version_major": 2,
       "version_minor": 0
      },
      "text/plain": [
       "  0%|          | 0/1 [00:00<?, ?it/s]"
      ]
     },
     "metadata": {},
     "output_type": "display_data"
    }
   ],
   "source": [
    "# eps_vals и min_samples_vals подобраны через Gridsearch так, чтобы доля аномалий была 1%\n",
    "\n",
    "eps_vals = [30] #0.5, 1, 3, 5, 10, 15, 25, 40, 60, 80, 100\n",
    "min_samples_vals = [10] #3, 5, 7, 8, 10, 12, 15, 20, 25, 30\n",
    "\n",
    "col1 = []\n",
    "col2 = []\n",
    "col3 = []\n",
    "for eps in tqdm(eps_vals):\n",
    "    for min_samp in tqdm(min_samples_vals):\n",
    "        model = DBSCAN(eps = eps, min_samples = min_samp)\n",
    "        res = model.fit_predict(X)\n",
    "        res_outl = np.where(res == -1)[0]\n",
    "        outl_frac = len(res_outl)/len(res)\n",
    "        \n",
    "        col1.append(eps)\n",
    "        col2.append(min_samp)\n",
    "        col3.append(outl_frac)\n",
    "    \n",
    "ress = pd.DataFrame({\n",
    "    'eps': col1,\n",
    "    'min_samples': col2,\n",
    "    'frac_outliers': col3\n",
    "})\n",
    "\n",
    "ress.to_excel('find_outl_with_DBSCAN_ress.xlsx', index = False)"
   ]
  },
  {
   "cell_type": "code",
   "execution_count": 39,
   "id": "4c23b6dd",
   "metadata": {},
   "outputs": [
    {
     "data": {
      "text/plain": [
       "-2138"
      ]
     },
     "execution_count": 39,
     "metadata": {},
     "output_type": "execute_result"
    }
   ],
   "source": [
    "X['outl']=res\n",
    "X['outl'].sum()"
   ]
  },
  {
   "cell_type": "code",
   "execution_count": null,
   "id": "2bfb592f",
   "metadata": {},
   "outputs": [],
   "source": [
    "df_train['outl']=X['outl'].copy()"
   ]
  },
  {
   "cell_type": "code",
   "execution_count": 43,
   "id": "92a759af",
   "metadata": {},
   "outputs": [
    {
     "data": {
      "text/plain": [
       "1031.0"
      ]
     },
     "execution_count": 43,
     "metadata": {},
     "output_type": "execute_result"
    }
   ],
   "source": [
    "df_train[df_train['outl']==-1]['target'].sum()"
   ]
  },
  {
   "cell_type": "code",
   "execution_count": 47,
   "id": "60ed1676",
   "metadata": {},
   "outputs": [],
   "source": [
    "df_train[df_train['outl']!=-1].drop('outl',axis=1).to_csv('df_train_woutout.csv',index=False)"
   ]
  },
  {
   "cell_type": "markdown",
   "id": "34705a50",
   "metadata": {},
   "source": [
    "Обучим baseline Catboost, чтобы посмотреть, как повлияло удаление потенциальных аномалий"
   ]
  },
  {
   "cell_type": "code",
   "execution_count": 9,
   "id": "f7e6446c",
   "metadata": {},
   "outputs": [],
   "source": [
    "all_feats = list(set(continuous) | set(categoricals) | set(binaries))\n",
    "all_cats = list(set(categoricals) | set(binaries))"
   ]
  },
  {
   "cell_type": "markdown",
   "id": "e056572c",
   "metadata": {},
   "source": [
    "### После удаления наблюдений, подозрительных на выбросы, качество модели падает"
   ]
  },
  {
   "cell_type": "markdown",
   "id": "1b4c86bc",
   "metadata": {},
   "source": [
    "До удаления выбросов:"
   ]
  },
  {
   "cell_type": "code",
   "execution_count": 12,
   "id": "1cfd35ed",
   "metadata": {},
   "outputs": [],
   "source": [
    "df_train = pd.read_csv('df_train.csv')\n",
    "df_test = pd.read_csv('df_test.csv')"
   ]
  },
  {
   "cell_type": "code",
   "execution_count": 18,
   "id": "d41ad921",
   "metadata": {
    "scrolled": false
   },
   "outputs": [
    {
     "name": "stdout",
     "output_type": "stream",
     "text": [
      "Learning rate set to 0.096758\n",
      "0:\tlearn: 0.5506481\ttotal: 473ms\tremaining: 7m 52s\n",
      "100:\tlearn: 0.1371325\ttotal: 24s\tremaining: 3m 33s\n",
      "200:\tlearn: 0.1308619\ttotal: 46.3s\tremaining: 3m 4s\n",
      "300:\tlearn: 0.1255685\ttotal: 1m 8s\tremaining: 2m 38s\n",
      "400:\tlearn: 0.1211015\ttotal: 1m 30s\tremaining: 2m 15s\n",
      "500:\tlearn: 0.1168431\ttotal: 1m 52s\tremaining: 1m 52s\n",
      "600:\tlearn: 0.1130944\ttotal: 2m 14s\tremaining: 1m 29s\n",
      "700:\tlearn: 0.1096478\ttotal: 2m 36s\tremaining: 1m 6s\n",
      "800:\tlearn: 0.1066820\ttotal: 2m 58s\tremaining: 44.3s\n",
      "900:\tlearn: 0.1037201\ttotal: 3m 19s\tremaining: 21.9s\n",
      "999:\tlearn: 0.1012555\ttotal: 3m 41s\tremaining: 0us\n"
     ]
    },
    {
     "data": {
      "text/plain": [
       "<catboost.core.CatBoostClassifier at 0x7fada84b07f0>"
      ]
     },
     "execution_count": 18,
     "metadata": {},
     "output_type": "execute_result"
    }
   ],
   "source": [
    "X = df_train.drop(['client_id', 'dt', 'target'],axis=1)#.to_numpy()\n",
    "y = df_train['target'].to_numpy()\n",
    "\n",
    "#Заменим NAN в категориальных переменных на пустые строки для совместимости с моделью\n",
    "for x in all_cats:\n",
    "    X[x].fillna('NA', inplace = True)\n",
    "    X[x]=X[x].astype('str')\n",
    "\n",
    "for x in binaries:\n",
    "    try:\n",
    "        X[x] = X[x].astype(int)\n",
    "    except:\n",
    "        continue\n",
    "        \n",
    "model = CatBoostClassifier()\n",
    "model.fit(X, y, verbose=100, plot=False, cat_features=all_cats)"
   ]
  },
  {
   "cell_type": "code",
   "execution_count": 13,
   "id": "40ea8a0e",
   "metadata": {},
   "outputs": [],
   "source": [
    "X_t = df_test.drop(['client_id', 'dt', 'target'],axis=1)#.to_numpy()\n",
    "y_t = df_test['target'].to_numpy()\n",
    "    \n",
    "for x in binaries:\n",
    "    try:\n",
    "        X_t[x] = X_t[x].astype(int)\n",
    "    except:\n",
    "        continue"
   ]
  },
  {
   "cell_type": "code",
   "execution_count": 57,
   "id": "d98e716c",
   "metadata": {
    "scrolled": true
   },
   "outputs": [
    {
     "name": "stdout",
     "output_type": "stream",
     "text": [
      "gini:  0.755\n",
      "f1_score:  0.277\n",
      "accuracy_score:  0.954\n",
      "recall_score:  0.176\n",
      "precision_score:  0.653\n"
     ]
    }
   ],
   "source": [
    "pred_proba = model.predict_proba(X_t)[:,1]\n",
    "print('gini: ', round(2*roc_auc_score(y_t, pred_proba)-1,3))\n",
    "pred = model.predict(X_t)\n",
    "print('f1_score: ', round(f1_score(y_t, pred),3))\n",
    "print('accuracy_score: ', round(accuracy_score(y_t, pred),3))\n",
    "print('recall_score: ', round(recall_score(y_t, pred),3))\n",
    "print('precision_score: ', round(precision_score(y_t, pred),3))"
   ]
  },
  {
   "cell_type": "markdown",
   "id": "243f5d42",
   "metadata": {},
   "source": [
    "После удаления выбросов:"
   ]
  },
  {
   "cell_type": "code",
   "execution_count": 6,
   "id": "32171cff",
   "metadata": {},
   "outputs": [],
   "source": [
    "df_train_woutout = pd.read_csv('df_train_woutout.csv')"
   ]
  },
  {
   "cell_type": "code",
   "execution_count": 10,
   "id": "ed0c9db5",
   "metadata": {},
   "outputs": [
    {
     "name": "stdout",
     "output_type": "stream",
     "text": [
      "Learning rate set to 0.096291\n",
      "0:\tlearn: 0.5476182\ttotal: 412ms\tremaining: 6m 51s\n",
      "100:\tlearn: 0.1336594\ttotal: 23.6s\tremaining: 3m 30s\n",
      "200:\tlearn: 0.1274579\ttotal: 46.3s\tremaining: 3m 4s\n",
      "300:\tlearn: 0.1223811\ttotal: 1m 8s\tremaining: 2m 39s\n",
      "400:\tlearn: 0.1178050\ttotal: 1m 32s\tremaining: 2m 17s\n",
      "500:\tlearn: 0.1140364\ttotal: 1m 54s\tremaining: 1m 54s\n",
      "600:\tlearn: 0.1104348\ttotal: 2m 17s\tremaining: 1m 31s\n",
      "700:\tlearn: 0.1071851\ttotal: 2m 39s\tremaining: 1m 8s\n",
      "800:\tlearn: 0.1040342\ttotal: 3m 2s\tremaining: 45.3s\n",
      "900:\tlearn: 0.1011864\ttotal: 3m 24s\tremaining: 22.5s\n",
      "999:\tlearn: 0.0986484\ttotal: 3m 47s\tremaining: 0us\n"
     ]
    },
    {
     "data": {
      "text/plain": [
       "<catboost.core.CatBoostClassifier at 0x7f8ae2ce6dc0>"
      ]
     },
     "execution_count": 10,
     "metadata": {},
     "output_type": "execute_result"
    }
   ],
   "source": [
    "X1 = df_train_woutout.drop(['client_id', 'dt', 'target'],axis=1)#.to_numpy()\n",
    "y1 = df_train_woutout['target'].to_numpy()\n",
    "\n",
    "#Заменим NAN в категориальных переменных на пустые строки для совместимости с моделью\n",
    "for x in all_cats:\n",
    "    X1[x].fillna('NA', inplace = True)\n",
    "    X1[x]=X1[x].astype('str')\n",
    "\n",
    "model1 = CatBoostClassifier()\n",
    "model1.fit(X1, y1, verbose=100, plot=False, cat_features=all_cats)"
   ]
  },
  {
   "cell_type": "code",
   "execution_count": 50,
   "id": "de7d31ce",
   "metadata": {},
   "outputs": [
    {
     "name": "stdout",
     "output_type": "stream",
     "text": [
      "gini:  0.755\n",
      "f1_score:  0.274\n",
      "accuracy_score:  0.953\n",
      "recall_score:  0.174\n",
      "precision_score:  0.642\n"
     ]
    }
   ],
   "source": [
    "pred_proba = model1.predict_proba(X_t)[:,1]\n",
    "print('gini: ', round(2*roc_auc_score(y_t, pred_proba)-1,3))\n",
    "pred = model1.predict(X_t)\n",
    "print('f1_score: ', round(f1_score(y_t, pred),3))\n",
    "print('accuracy_score: ', round(accuracy_score(y_t, pred),3))\n",
    "print('recall_score: ', round(recall_score(y_t, pred),3))\n",
    "print('precision_score: ', round(precision_score(y_t, pred),3))"
   ]
  },
  {
   "cell_type": "markdown",
   "id": "7fdd0c90",
   "metadata": {},
   "source": [
    "Качество упало, значит, мы удалили значимые наблюдения, а не выбросы"
   ]
  }
 ],
 "metadata": {
  "kernelspec": {
   "display_name": "Python 3 (ipykernel)",
   "language": "python",
   "name": "python3"
  },
  "language_info": {
   "codemirror_mode": {
    "name": "ipython",
    "version": 3
   },
   "file_extension": ".py",
   "mimetype": "text/x-python",
   "name": "python",
   "nbconvert_exporter": "python",
   "pygments_lexer": "ipython3",
   "version": "3.9.2"
  }
 },
 "nbformat": 4,
 "nbformat_minor": 5
}
