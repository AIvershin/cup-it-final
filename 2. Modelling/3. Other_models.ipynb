{
  "nbformat": 4,
  "nbformat_minor": 0,
  "metadata": {
    "colab": {
      "provenance": []
    },
    "kernelspec": {
      "name": "python3",
      "display_name": "Python 3"
    },
    "language_info": {
      "name": "python"
    }
  },
  "cells": [
    {
      "cell_type": "code",
      "execution_count": null,
      "metadata": {
        "id": "6cdER5SjswV1",
        "colab": {
          "base_uri": "https://localhost:8080/"
        },
        "outputId": "c8261027-fbeb-434f-aa39-515750d84542"
      },
      "outputs": [
        {
          "output_type": "stream",
          "name": "stdout",
          "text": [
            "Looking in indexes: https://pypi.org/simple, https://us-python.pkg.dev/colab-wheels/public/simple/\n",
            "Requirement already satisfied: catboost in /usr/local/lib/python3.9/dist-packages (1.1.1)\n",
            "Requirement already satisfied: pandas>=0.24.0 in /usr/local/lib/python3.9/dist-packages (from catboost) (1.4.4)\n",
            "Requirement already satisfied: scipy in /usr/local/lib/python3.9/dist-packages (from catboost) (1.10.1)\n",
            "Requirement already satisfied: plotly in /usr/local/lib/python3.9/dist-packages (from catboost) (5.13.1)\n",
            "Requirement already satisfied: six in /usr/local/lib/python3.9/dist-packages (from catboost) (1.16.0)\n",
            "Requirement already satisfied: numpy>=1.16.0 in /usr/local/lib/python3.9/dist-packages (from catboost) (1.22.4)\n",
            "Requirement already satisfied: graphviz in /usr/local/lib/python3.9/dist-packages (from catboost) (0.20.1)\n",
            "Requirement already satisfied: matplotlib in /usr/local/lib/python3.9/dist-packages (from catboost) (3.7.1)\n",
            "Requirement already satisfied: python-dateutil>=2.8.1 in /usr/local/lib/python3.9/dist-packages (from pandas>=0.24.0->catboost) (2.8.2)\n",
            "Requirement already satisfied: pytz>=2020.1 in /usr/local/lib/python3.9/dist-packages (from pandas>=0.24.0->catboost) (2022.7.1)\n",
            "Requirement already satisfied: fonttools>=4.22.0 in /usr/local/lib/python3.9/dist-packages (from matplotlib->catboost) (4.39.3)\n",
            "Requirement already satisfied: kiwisolver>=1.0.1 in /usr/local/lib/python3.9/dist-packages (from matplotlib->catboost) (1.4.4)\n",
            "Requirement already satisfied: pyparsing>=2.3.1 in /usr/local/lib/python3.9/dist-packages (from matplotlib->catboost) (3.0.9)\n",
            "Requirement already satisfied: packaging>=20.0 in /usr/local/lib/python3.9/dist-packages (from matplotlib->catboost) (23.0)\n",
            "Requirement already satisfied: contourpy>=1.0.1 in /usr/local/lib/python3.9/dist-packages (from matplotlib->catboost) (1.0.7)\n",
            "Requirement already satisfied: cycler>=0.10 in /usr/local/lib/python3.9/dist-packages (from matplotlib->catboost) (0.11.0)\n",
            "Requirement already satisfied: pillow>=6.2.0 in /usr/local/lib/python3.9/dist-packages (from matplotlib->catboost) (8.4.0)\n",
            "Requirement already satisfied: importlib-resources>=3.2.0 in /usr/local/lib/python3.9/dist-packages (from matplotlib->catboost) (5.12.0)\n",
            "Requirement already satisfied: tenacity>=6.2.0 in /usr/local/lib/python3.9/dist-packages (from plotly->catboost) (8.2.2)\n",
            "Requirement already satisfied: zipp>=3.1.0 in /usr/local/lib/python3.9/dist-packages (from importlib-resources>=3.2.0->matplotlib->catboost) (3.15.0)\n"
          ]
        }
      ],
      "source": [
        "import pandas as pd\n",
        "import numpy as np\n",
        "from sklearn.metrics import roc_auc_score, f1_score, accuracy_score, recall_score, precision_score, confusion_matrix, fbeta_score\n",
        "from sklearn.model_selection import GridSearchCV, RandomizedSearchCV, train_test_split\n",
        "from sklearn.ensemble import AdaBoostClassifier, RandomForestClassifier, VotingClassifier, ExtraTreesClassifier\n",
        "import pickle\n",
        "from sklearn.linear_model import LogisticRegression\n",
        "from sklearn.neighbors import KNeighborsClassifier\n",
        "#!pip install optuna\n",
        "import optuna\n",
        "!pip install catboost\n",
        "from catboost import CatBoostClassifier\n",
        "from xgboost import XGBClassifier\n",
        "from lightgbm import LGBMClassifier\n",
        "from tqdm import tqdm \n",
        "from sklearn.linear_model import SGDClassifier \n",
        "#!pip install dill\n",
        "import dill\n",
        "\n",
        "import warnings\n",
        "warnings.filterwarnings(\"ignore\") \n"
      ]
    },
    {
      "cell_type": "code",
      "source": [
        "df_train_1 = pd.read_csv('/content/drive/MyDrive/Colab_Notebooks/train_1.csv')\n",
        "df_test_1 = pd.read_csv('/content/drive/MyDrive/Colab_Notebooks/test_1.csv')\n",
        "df_train_2 = pd.read_csv('/content/drive/MyDrive/Colab_Notebooks/train_2.csv')\n",
        "df_test_2 = pd.read_csv('/content/drive/MyDrive/Colab_Notebooks/test_2.csv')"
      ],
      "metadata": {
        "id": "0eYwwSo4zqd7"
      },
      "execution_count": null,
      "outputs": []
    },
    {
      "cell_type": "code",
      "source": [],
      "metadata": {
        "id": "3xRd-AcQQsrj"
      },
      "execution_count": null,
      "outputs": []
    },
    {
      "cell_type": "markdown",
      "source": [
        "#RUSBoostClassifer"
      ],
      "metadata": {
        "id": "7HNYhWSQ0Lr6"
      }
    },
    {
      "cell_type": "markdown",
      "source": [
        "Подбор гиперпараметров для RUSBoost"
      ],
      "metadata": {
        "id": "ghlLhOT_6SGJ"
      }
    },
    {
      "cell_type": "code",
      "source": [
        "param_grid = {\n",
        "    'n_estimators': [10, 50, 100],\n",
        "    'sampling_strategy': ['majority', 'not minority', 'not majority', 'all']\n",
        "} "
      ],
      "metadata": {
        "id": "BfUMCwv16Rty"
      },
      "execution_count": null,
      "outputs": []
    },
    {
      "cell_type": "markdown",
      "source": [
        "#Определяем random_state"
      ],
      "metadata": {
        "id": "p4ZtnM7x201S"
      }
    },
    {
      "cell_type": "code",
      "source": [
        "rnd = 42\n",
        "\n",
        "X = df_train_1.drop(['target'],axis=1)#.to_numpy()\n",
        "y = df_train_1['target'].to_numpy()\n"
      ],
      "metadata": {
        "id": "I3uoRS7n20Ql"
      },
      "execution_count": null,
      "outputs": []
    },
    {
      "cell_type": "code",
      "source": [
        "rnd = 42\n",
        "\n",
        "def RUSBoost_CL(train, test):  \n",
        "  X = train.drop(['target'],axis=1)#.to_numpy()\n",
        "  y = train['target'].to_numpy()\n",
        "  model = RUSBoostClassifier(random_state = rnd, n_estimators=100, sampling_strategy = 'majority', base_estimator =  AdaBoostClassifier(n_estimators=10))\n",
        "  model.fit(X, y)\n",
        "\n",
        "  X_t = test.drop(['target'],axis=1)\n",
        "  y_t = test['target'].to_numpy()\n",
        "\n",
        "  pred_proba = model.predict_proba(X_t)[:,1]\n",
        "  print('gini: ', round(2*roc_auc_score(y_t, pred_proba)-1,3))\n",
        "  pred = model.predict(X_t)\n",
        "  print('f1_score: ', round(f1_score(y_t, pred),3))\n",
        "  print('f2_score: ',  round(fbeta_score(y_t, pred,beta =2), 3))\n",
        "  print('accuracy_score: ', round(accuracy_score(y_t, pred),3))\n",
        "  print('recall_score: ', round(recall_score(y_t, pred),3))\n",
        "  print('precision_score: ', round(precision_score(y_t, pred),3),'\\n\\n')"
      ],
      "metadata": {
        "id": "lBLNtfyRt7zL"
      },
      "execution_count": null,
      "outputs": []
    },
    {
      "cell_type": "code",
      "source": [
        "RUSBoost_CL(df_train_1, df_test_1)\n",
        "RUSBoost_CL(df_train_2, df_test_2)"
      ],
      "metadata": {
        "colab": {
          "base_uri": "https://localhost:8080/"
        },
        "id": "s8NlLK_51pXc",
        "outputId": "6b12f6f3-e282-4afa-9fdd-5e57de2a4f8b"
      },
      "execution_count": null,
      "outputs": [
        {
          "output_type": "stream",
          "name": "stderr",
          "text": [
            "/usr/local/lib/python3.9/dist-packages/imblearn/ensemble/_weight_boosting.py:267: FutureWarning: `base_estimator` was renamed to `estimator` in version 0.10 and will be removed in 0.12.\n",
            "  warnings.warn(\n"
          ]
        },
        {
          "output_type": "stream",
          "name": "stdout",
          "text": [
            "gini:  0.723\n",
            "f1_score:  0.36\n",
            "f2_score:  0.5\n",
            "accuracy_score:  0.845\n",
            "recall_score:  0.675\n",
            "precision_score:  0.245 \n",
            "\n",
            "\n"
          ]
        },
        {
          "output_type": "stream",
          "name": "stderr",
          "text": [
            "/usr/local/lib/python3.9/dist-packages/imblearn/ensemble/_weight_boosting.py:267: FutureWarning: `base_estimator` was renamed to `estimator` in version 0.10 and will be removed in 0.12.\n",
            "  warnings.warn(\n"
          ]
        },
        {
          "output_type": "stream",
          "name": "stdout",
          "text": [
            "gini:  0.733\n",
            "f1_score:  0.323\n",
            "f2_score:  0.5\n",
            "accuracy_score:  0.787\n",
            "recall_score:  0.787\n",
            "precision_score:  0.203 \n",
            "\n",
            "\n"
          ]
        }
      ]
    },
    {
      "cell_type": "code",
      "source": [
        "X = df_train_1.drop(['target'],axis=1)\n",
        "y = df_train_1['target'].to_numpy()\n",
        "\n",
        "rus_boost = RUSBoostClassifier(random_state = 42)\n",
        "grid_search = GridSearchCV(rus_boost, param_grid=param_grid, cv=5)\n",
        "grid_search.fit(X, y)\n",
        "\n",
        "# вывод наилучшей комбинации гиперпараметров и соответствующего значения метрики качества\n",
        "print(\"Best parameters: \", grid_search.best_params_)\n",
        "print(\"Best score: \", grid_search.best_score_)"
      ],
      "metadata": {
        "colab": {
          "base_uri": "https://localhost:8080/"
        },
        "id": "cAadVMOR4DOX",
        "outputId": "ae58f312-8138-4713-b954-c7db57580cdb"
      },
      "execution_count": null,
      "outputs": [
        {
          "output_type": "stream",
          "name": "stdout",
          "text": [
            "Best parameters:  {'n_estimators': 100, 'sampling_strategy': 'majority'}\n",
            "Best score:  0.8106807515344476\n"
          ]
        }
      ]
    },
    {
      "cell_type": "markdown",
      "source": [
        "Гиперпараметры для AdaBoost"
      ],
      "metadata": {
        "id": "1YybCHbWCwVF"
      }
    },
    {
      "cell_type": "code",
      "source": [
        "X = df_train_1.drop(['target'],axis=1)\n",
        "y = df_train_1['target'].to_numpy()"
      ],
      "metadata": {
        "id": "rN7I5-8i-X79"
      },
      "execution_count": null,
      "outputs": []
    },
    {
      "cell_type": "code",
      "source": [
        "ab_clf = AdaBoostClassifier(random_state=rnd)\n",
        "\n",
        "parameters = {\n",
        "    'learning_rate': [(0.97 + x / 100) for x in range(0, 8)]\n",
        "}\n",
        "clf = GridSearchCV(ab_clf, parameters, cv=5)\n",
        "clf.fit(X, y)\n",
        "print(\"Best parameters: \", clf.best_params_)"
      ],
      "metadata": {
        "colab": {
          "base_uri": "https://localhost:8080/"
        },
        "id": "nmYsIDaWCgMp",
        "outputId": "651e9bf5-efab-405d-9671-614031346b48"
      },
      "execution_count": null,
      "outputs": [
        {
          "output_type": "stream",
          "name": "stdout",
          "text": [
            "Best parameters:  {'learning_rate': 1.02}\n"
          ]
        }
      ]
    },
    {
      "cell_type": "code",
      "source": [
        "def AdaBoostCl(train, test):\n",
        "  X = train.drop(['target'],axis=1)#.to_numpy()\n",
        "  y = train['target'].to_numpy()\n",
        "  model = AdaBoostClassifier(random_state = rnd, learning_rate=1.02, n_estimators=100)\n",
        "  model.fit(X, y)\n",
        "\n",
        "  X_t = test.drop(['target'],axis=1)\n",
        "  y_t = test['target'].to_numpy()\n",
        "\n",
        "  pred_proba = model.predict_proba(X_t)[:,1]\n",
        "  print('gini: ', round(2*roc_auc_score(y_t, pred_proba)-1,3))\n",
        "  pred = model.predict(X_t)\n",
        "  print('f1_score: ', round(f1_score(y_t, pred),3))\n",
        "  print('f2_score: ',  round(fbeta_score(y_t, pred,beta =2), 3))\n",
        "  print('accuracy_score: ', round(accuracy_score(y_t, pred),3))\n",
        "  print('recall_score: ', round(recall_score(y_t, pred),3))\n",
        "  print('precision_score: ', round(precision_score(y_t, pred),3),'\\n\\n')"
      ],
      "metadata": {
        "id": "6TQvAyya9fWq"
      },
      "execution_count": null,
      "outputs": []
    },
    {
      "cell_type": "code",
      "source": [
        "AdaBoostCl(df_train_1, df_test_1)\n",
        "AdaBoostCl(df_train_2, df_test_2)"
      ],
      "metadata": {
        "colab": {
          "base_uri": "https://localhost:8080/"
        },
        "id": "qoNC1f9qCfG3",
        "outputId": "477b33e2-6490-45b5-97ad-bd2178f7a973"
      },
      "execution_count": null,
      "outputs": [
        {
          "output_type": "stream",
          "name": "stdout",
          "text": [
            "gini:  0.716\n",
            "f1_score:  0.356\n",
            "f2_score:  0.498\n",
            "accuracy_score:  0.841\n",
            "recall_score:  0.68\n",
            "precision_score:  0.241\n",
            "gini:  0.725\n",
            "f1_score:  0.32\n",
            "f2_score:  0.494\n",
            "accuracy_score:  0.788\n",
            "recall_score:  0.772\n",
            "precision_score:  0.202\n"
          ]
        }
      ]
    },
    {
      "cell_type": "code",
      "source": [
        "def KNN(train, test):\n",
        "\n",
        "  X = train.drop(['target'],axis=1)\n",
        "  y = train['target'].to_numpy()\n",
        "  model = KNeighborsClassifier(n_neighbors=100)\n",
        "  model.fit(X, y)\n",
        "\n",
        "  X_t = test.drop(['target'],axis=1)\n",
        "  y_t = test['target'].to_numpy()\n",
        "\n",
        "  pred_proba = model.predict_proba(X_t)[:,1]\n",
        "  print('gini: ', round(2*roc_auc_score(y_t, pred_proba)-1,3))\n",
        "  pred = model.predict(X_t)\n",
        "  print('f1_score: ', round(f1_score(y_t, pred),3))\n",
        "  print('f2_score: ',  round(fbeta_score(y_t, pred,beta =2), 3))\n",
        "  print('accuracy_score: ', round(accuracy_score(y_t, pred),3))\n",
        "  print('recall_score: ', round(recall_score(y_t, pred),3))\n",
        "  print('precision_score: ', round(precision_score(y_t, pred),3),'\\n\\n')"
      ],
      "metadata": {
        "id": "9Iq5s0-DJgQU"
      },
      "execution_count": null,
      "outputs": []
    },
    {
      "cell_type": "code",
      "source": [
        "KNN(df_train_1, df_test_1)\n",
        "KNN(df_train_2, df_test_2)"
      ],
      "metadata": {
        "colab": {
          "base_uri": "https://localhost:8080/"
        },
        "id": "PVLAN4uLycqO",
        "outputId": "11975600-cc47-4bc2-b254-c3976e6d3846"
      },
      "execution_count": null,
      "outputs": [
        {
          "output_type": "stream",
          "name": "stdout",
          "text": [
            "gini:  0.625\n",
            "f1_score:  0.3\n",
            "f2_score:  0.434\n",
            "accuracy_score:  0.813\n",
            "recall_score:  0.618\n",
            "precision_score:  0.198\n",
            "gini:  0.65\n",
            "f1_score:  0.28\n",
            "f2_score:  0.444\n",
            "accuracy_score:  0.756\n",
            "recall_score:  0.731\n",
            "precision_score:  0.173\n"
          ]
        }
      ]
    },
    {
      "cell_type": "markdown",
      "source": [
        "#CatBoostClassifier"
      ],
      "metadata": {
        "id": "4BSjjhmFD5ge"
      }
    },
    {
      "cell_type": "markdown",
      "source": [
        "подборка гиперпараметров"
      ],
      "metadata": {
        "id": "DAUdxAEcN1Wm"
      }
    },
    {
      "cell_type": "code",
      "source": [
        "catboost = CatBoostClassifier()\n",
        "\n",
        "param_grid = {'learning_rate': [0.01, 0.1, 1],\n",
        "              'depth': [3, 7]}\n",
        "\n",
        "grid_search = GridSearchCV(catboost, param_grid=param_grid, cv=5)\n",
        "\n",
        "grid_search.fit(X, y)\n",
        "\n",
        "print(\"Best parameters: {}\".format(grid_search.best_params_))"
      ],
      "metadata": {
        "id": "kT2rkzE3uTIa"
      },
      "execution_count": null,
      "outputs": []
    },
    {
      "cell_type": "code",
      "source": [
        "def CatBoostCl(train, test):\n",
        "\n",
        "  X = train.drop(['target'],axis=1)\n",
        "  y = train['target'].to_numpy()\n",
        "  model = CatBoostClassifier(random_state = rnd, iterations = 100, depth= 7, learning_rate = 1)\n",
        "  model.fit(X, y)\n",
        "\n",
        "  X_t = test.drop(['target'],axis=1)\n",
        "  y_t = test['target'].to_numpy()\n",
        "\n",
        "  pred_proba = model.predict_proba(X_t)[:,1]\n",
        "  print('gini: ', round(2*roc_auc_score(y_t, pred_proba)-1,3))\n",
        "  pred = model.predict(X_t)\n",
        "  print('f1_score: ', round(f1_score(y_t, pred),3))\n",
        "  print('f2_score: ',  round(fbeta_score(y_t, pred,beta =2), 3))\n",
        "  print('accuracy_score: ', round(accuracy_score(y_t, pred),3))\n",
        "  print('recall_score: ', round(recall_score(y_t, pred),3))\n",
        "  print('precision_score: ', round(precision_score(y_t, pred),3))"
      ],
      "metadata": {
        "id": "8vFTUSFFEH84"
      },
      "execution_count": null,
      "outputs": []
    },
    {
      "cell_type": "code",
      "source": [
        "CatBoostCl(df_train_1, df_test_1)"
      ],
      "metadata": {
        "id": "e2fzv2cHQ1F4"
      },
      "execution_count": null,
      "outputs": []
    },
    {
      "cell_type": "markdown",
      "source": [
        "#XGB Classifier"
      ],
      "metadata": {
        "id": "FYIgQ3VFOgFb"
      }
    },
    {
      "cell_type": "markdown",
      "source": [
        "Подборка гиперпараметров"
      ],
      "metadata": {
        "id": "EPdIrT-TMrzE"
      }
    },
    {
      "cell_type": "code",
      "source": [
        "params = {\n",
        "    'learning_rate': [0.05, 0.15],\n",
        "    'max_depth': [3, 5],\n",
        "}\n",
        "\n",
        "xgb_model =XGBClassifier(random_state=rnd)\n",
        "grid_search = GridSearchCV(xgb_model, param_grid=params, cv=5, n_jobs=-1, verbose=3)\n",
        "grid_search.fit(X, y)\n",
        "\n",
        "print(\"Best parameters:\", grid_search.best_params_)"
      ],
      "metadata": {
        "colab": {
          "base_uri": "https://localhost:8080/"
        },
        "id": "_8a6B2tOMvWY",
        "outputId": "f2953ffc-127f-4216-c660-9aa1153e219e"
      },
      "execution_count": null,
      "outputs": [
        {
          "output_type": "stream",
          "name": "stdout",
          "text": [
            "Fitting 5 folds for each of 4 candidates, totalling 20 fits\n",
            "Best parameters: {'learning_rate': 0.15, 'max_depth': 5}\n"
          ]
        }
      ]
    },
    {
      "cell_type": "code",
      "source": [
        "def XgbCl(train, test):\n",
        "\n",
        "  X = train.drop(['target'],axis=1)\n",
        "  y = train['target'].to_numpy()\n",
        "  model = XGBClassifier(random_state = rnd, n_estimators=100, learning_rate=0.15, max_depth=5)\n",
        "  model.fit(X, y)\n",
        "\n",
        "  X_t = test.drop(['target'],axis=1)\n",
        "  y_t = test['target'].to_numpy()\n",
        "\n",
        "  pred_proba = model.predict_proba(X_t)[:,1]\n",
        "  print('gini: ', round(2*roc_auc_score(y_t, pred_proba)-1,3))\n",
        "  pred = model.predict(X_t)\n",
        "  print('f1_score: ', round(f1_score(y_t, pred),3))\n",
        "  print('f2_score: ',  round(fbeta_score(y_t, pred,beta =2), 3))\n",
        "  print('accuracy_score: ', round(accuracy_score(y_t, pred),3))\n",
        "  print('recall_score: ', round(recall_score(y_t, pred),3))\n",
        "  print('precision_score: ', round(precision_score(y_t, pred),3))"
      ],
      "metadata": {
        "id": "jnENA2kjPZWX"
      },
      "execution_count": null,
      "outputs": []
    },
    {
      "cell_type": "code",
      "source": [
        "XgbCl(df_train_1, df_test_1)"
      ],
      "metadata": {
        "colab": {
          "base_uri": "https://localhost:8080/"
        },
        "id": "DKAeFZOrN9et",
        "outputId": "b4d51bc2-a79f-4961-ee20-40fa003e8483"
      },
      "execution_count": null,
      "outputs": [
        {
          "output_type": "stream",
          "name": "stdout",
          "text": [
            "gini:  0.741\n",
            "f1_score:  0.366\n",
            "f2_score:  0.512\n",
            "accuracy_score:  0.844\n",
            "recall_score:  0.698\n",
            "precision_score:  0.248\n"
          ]
        }
      ]
    },
    {
      "cell_type": "markdown",
      "source": [
        "#LGBM Classifier"
      ],
      "metadata": {
        "id": "zWU-WZkmQrgr"
      }
    },
    {
      "cell_type": "markdown",
      "source": [
        "Подборка гиперпараметров"
      ],
      "metadata": {
        "id": "JayzCvTBQxrG"
      }
    },
    {
      "cell_type": "code",
      "source": [
        "def objective(trial):\n",
        "    X_train, X_val, y_train, y_val = train_test_split(X, y, test_size=0.2, random_state=rnd)\n",
        "    params = {\n",
        "        'num_leaves': trial.suggest_int('num_leaves', 2, 50),\n",
        "        'max_depth': trial.suggest_int('max_depth', 2, 10),\n",
        "        'learning_rate': trial.suggest_loguniform('learning_rate', 0.001, 0.1),\n",
        "        'min_child_samples': trial.suggest_int('min_child_samples', 5, 100),\n",
        "        'subsample': trial.suggest_float('subsample', 0.1, 1.0),\n",
        "        'colsample_bytree': trial.suggest_float('colsample_bytree', 0.1, 1.0),\n",
        "    }\n",
        "\n",
        "    # Create a Decision Tree Classifier with the hyperparameters\n",
        "    lgbm = LGBMClassifier(**params)\n",
        "\n",
        "    # Train and evaluate the model\n",
        "    lgbm.fit(X_train, y_train)\n",
        "    score = lgbm.score(X_val, y_val)\n",
        "\n",
        "    return score\n",
        "\n",
        "# Create Optuna study and optimize hyperparameters\n",
        "study = optuna.create_study(direction='maximize')\n",
        "study.optimize(objective, n_trials=100)\n",
        "\n",
        "# Print the best hyperparameters and score\n",
        "print('Best trial:')\n",
        "trial = study.best_trial\n",
        "print(f'  Score: {trial.value:.3f}')\n",
        "print('  Params:')\n",
        "for key, value in trial.params.items():\n",
        "    print(f'    {key}: {value}')"
      ],
      "metadata": {
        "id": "SGICl3WkOD7g"
      },
      "execution_count": null,
      "outputs": []
    },
    {
      "cell_type": "code",
      "source": [
        "def LGBMCl(train, test):\n",
        "\n",
        "  X = train.drop(['target'],axis=1)\n",
        "  y = train['target'].to_numpy()\n",
        "  model = LGBMClassifier(random_state = rnd, learning_rate=0.099, num_leaves = 45, max_depth=8, min_child_samples = 55, subsample = 0.23, colsample_bytree = 0.325)\n",
        "  model.fit(X, y)\n",
        "\n",
        "  X_t = test.drop(['target'],axis=1)\n",
        "  y_t = test['target'].to_numpy()\n",
        "\n",
        "  pred_proba = model.predict_proba(X_t)[:,1]\n",
        "  print('gini: ', round(2*roc_auc_score(y_t, pred_proba)-1,3))\n",
        "  pred = model.predict(X_t)\n",
        "  print('f1_score: ', round(f1_score(y_t, pred),3))\n",
        "  print('f2_score: ',  round(fbeta_score(y_t, pred,beta =2), 3))\n",
        "  print('accuracy_score: ', round(accuracy_score(y_t, pred),3))\n",
        "  print('recall_score: ', round(recall_score(y_t, pred),3))\n",
        "  print('precision_score: ', round(precision_score(y_t, pred),3))"
      ],
      "metadata": {
        "id": "S7NdfZqIVxNt"
      },
      "execution_count": null,
      "outputs": []
    },
    {
      "cell_type": "code",
      "source": [
        " LGBMCl(df_train_1, df_test_1)"
      ],
      "metadata": {
        "id": "DOhWGNnHCCwU"
      },
      "execution_count": null,
      "outputs": []
    },
    {
      "cell_type": "markdown",
      "source": [
        "Tune LogReg"
      ],
      "metadata": {
        "id": "R79dxlmOBQwt"
      }
    },
    {
      "cell_type": "code",
      "source": [
        "def objective(trial):\n",
        "    X_train, X_val, y_train, y_val = train_test_split(X, y, test_size=0.2, random_state=rnd)\n",
        "    params = {\n",
        "        'solver' : trial.suggest_categorical('solver', ['liblinear']),\n",
        "        'penalty' : trial.suggest_categorical('penalty',  ['l1', 'l2']),\n",
        "         'C' : trial.suggest_loguniform('C', 1e-4, 1e4), \n",
        "    }\n",
        "\n",
        "    logreg = LogisticRegression(**params)\n",
        "\n",
        "    logreg.fit(X_train, y_train)\n",
        "    score = logreg.score(X_val, y_val)\n",
        "\n",
        "    return score\n",
        "\n",
        "study = optuna.create_study(direction='maximize')\n",
        "study.optimize(objective, n_trials=100)\n",
        "\n",
        "print('Best trial:')\n",
        "trial = study.best_trial\n",
        "print(f'  Score: {trial.value:.3f}')\n",
        "print('  Params:')\n",
        "for key, value in trial.params.items():\n",
        "    print(f'    {key}: {value}')"
      ],
      "metadata": {
        "id": "ewsz8DFYFUCh"
      },
      "execution_count": null,
      "outputs": []
    },
    {
      "cell_type": "code",
      "source": [
        "def LogReg(train, test):\n",
        "\n",
        "  X = train.drop(['target'],axis=1)\n",
        "  y = train['target'].to_numpy()\n",
        "  model = LogisticRegression(random_state = rnd, solver = 'liblinear', penalty = 'l2' , C = 6484.008244618032)\n",
        "  model.fit(X, y)\n",
        "\n",
        "  X_t = test.drop(['target'],axis=1)\n",
        "  y_t = test['target'].to_numpy()\n",
        "\n",
        "  pred_proba = model.predict_proba(X_t)[:,1]\n",
        "  print('gini: ', round(2*roc_auc_score(y_t, pred_proba)-1,3))\n",
        "  pred = model.predict(X_t)\n",
        "  print('f1_score: ', round(f1_score(y_t, pred),3))\n",
        "  print('f2_score: ',  round(fbeta_score(y_t, pred,beta =2), 3))\n",
        "  print('accuracy_score: ', round(accuracy_score(y_t, pred),3))\n",
        "  print('recall_score: ', round(recall_score(y_t, pred),3))\n",
        "  print('precision_score: ', round(precision_score(y_t, pred),3))"
      ],
      "metadata": {
        "id": "Soq0lnEfKCDd"
      },
      "execution_count": null,
      "outputs": []
    },
    {
      "cell_type": "code",
      "source": [
        "LogReg(df_train_1,df_test_1)"
      ],
      "metadata": {
        "colab": {
          "base_uri": "https://localhost:8080/"
        },
        "id": "3kuoXx0YKNU9",
        "outputId": "cb3024bd-4c94-41f9-a172-2fbaefdee0ba"
      },
      "execution_count": null,
      "outputs": [
        {
          "output_type": "stream",
          "name": "stdout",
          "text": [
            "gini:  0.637\n",
            "f1_score:  0.312\n",
            "f2_score:  0.446\n",
            "accuracy_score:  0.822\n",
            "recall_score:  0.624\n",
            "precision_score:  0.208\n"
          ]
        }
      ]
    },
    {
      "cell_type": "markdown",
      "source": [
        "Tune SGD"
      ],
      "metadata": {
        "id": "zGG6x4TNBUVI"
      }
    },
    {
      "cell_type": "code",
      "source": [
        "def objective(trial):\n",
        "    X_train, X_val, y_train, y_val = train_test_split(X, y, test_size=0.2, random_state=rnd)\n",
        "    alpha = trial.suggest_loguniform('alpha', 1e-5, 1e0)\n",
        "    l1_ratio = trial.suggest_uniform('l1_ratio', 0, 1)\n",
        "    clf = SGDClassifier(loss='log', alpha=alpha, l1_ratio=l1_ratio)\n",
        "\n",
        "    clf.fit(X_train, y_train)\n",
        "    score = clf.score(X_val, y_val)\n",
        "\n",
        "    return score\n",
        "\n",
        "\n",
        "study = optuna.create_study(direction='maximize')\n",
        "study.optimize(objective, n_trials=100)\n",
        "\n",
        "print('Best trial:')\n",
        "trial = study.best_trial\n",
        "print(f'  Score: {trial.value:.3f}')\n",
        "print('  Params:')\n",
        "for key, value in trial.params.items():\n",
        "    print(f'    {key}: {value}')"
      ],
      "metadata": {
        "id": "X01HRO2zBype"
      },
      "execution_count": null,
      "outputs": []
    },
    {
      "cell_type": "code",
      "source": [
        "#1 варик\n",
        "def Voting(train, test):\n",
        "  X = train.drop(['target'],axis=1)\n",
        "  y = train['target'].to_numpy()\n",
        "\n",
        "  clf1 = LogisticRegression(random_state=rnd, C =6484.008244618032 , penalty = 'l2', solver = 'liblinear')\n",
        "  clf2 = RandomForestClassifier(random_state = rnd, n_estimators=507, max_depth=43, n_jobs=-1)\n",
        "  clf3 = LGBMClassifier(random_state = rnd, learning_rate=0.099, num_leaves = 45, max_depth=8, min_child_samples = 55, subsample = 0.23, colsample_bytree = 0.325)\n",
        "\n",
        "  model = VotingClassifier(estimators=[('lr', clf1), ('rf', clf2), ('lgbm', clf3)], voting='soft')\n",
        "  model.fit(X, y)\n",
        "\n",
        "  X_t = test.drop(['target'],axis=1)\n",
        "  y_t = test['target'].to_numpy()\n",
        "\n",
        "  pred_proba = model.predict_proba(X_t)[:,1]\n",
        "  print('gini: ', round(2*roc_auc_score(y_t, pred_proba)-1,3))\n",
        "  pred = model.predict(X_t)\n",
        "  print('f1_score: ', round(f1_score(y_t, pred),3))\n",
        "  print('f2_score: ',  round(fbeta_score(y_t, pred,beta =2), 3))\n",
        "  print('accuracy_score: ', round(accuracy_score(y_t, pred),3))\n",
        "  print('recall_score: ', round(recall_score(y_t, pred),3))\n",
        "  print('precision_score: ', round(precision_score(y_t, pred),3))\n",
        "  with open('/content/drive/MyDrive/Colab_Notebooks/Voting_LGBM_RF_LR.dat', 'wb') as f:\n",
        "    dill.dump(model,f)\n"
      ],
      "metadata": {
        "id": "06q0QOylQ2or"
      },
      "execution_count": null,
      "outputs": []
    },
    {
      "cell_type": "code",
      "source": [
        "Voting(df_train_1,df_test_1)"
      ],
      "metadata": {
        "colab": {
          "base_uri": "https://localhost:8080/"
        },
        "id": "X-MiQjONfW21",
        "outputId": "7c79fede-c6b7-420f-de14-449c2af67290"
      },
      "execution_count": null,
      "outputs": [
        {
          "output_type": "stream",
          "name": "stdout",
          "text": [
            "gini:  0.728\n",
            "f1_score:  0.404\n",
            "f2_score:  0.453\n",
            "accuracy_score:  0.906\n",
            "recall_score:  0.494\n",
            "precision_score:  0.342\n"
          ]
        }
      ]
    },
    {
      "cell_type": "markdown",
      "source": [
        "#VotingClassifier"
      ],
      "metadata": {
        "id": "DhNNslmEQydd"
      }
    },
    {
      "cell_type": "code",
      "source": [
        "#2 варик\n",
        "def Voting_2(train, test):\n",
        "  X = train.drop(['target'],axis=1)\n",
        "  y = train['target'].to_numpy()\n",
        "\n",
        "  clf1 = SGDClassifier(loss='log', alpha=1.6732202108806564e-05, l1_ratio=0.5386785802038093)\n",
        "  clf2 = RandomForestClassifier(random_state = rnd, n_estimators=507, max_depth=43, n_jobs=-1)\n",
        "  clf3 = LGBMClassifier(random_state = rnd, learning_rate=0.099, num_leaves = 45, max_depth=8, min_child_samples = 55, subsample = 0.23, colsample_bytree = 0.325)\n",
        "\n",
        "  model = VotingClassifier(estimators=[('lr', clf1), ('rf', clf2), ('lgbm', clf3)], voting='soft')\n",
        "  model.fit(X, y)\n",
        "\n",
        "  X_t = test.drop(['target'],axis=1)\n",
        "  y_t = test['target'].to_numpy()\n",
        "\n",
        "  pred_proba = model.predict_proba(X_t)[:,1]\n",
        "  print('gini: ', round(2*roc_auc_score(y_t, pred_proba)-1,3))\n",
        "  pred = model.predict(X_t)\n",
        "  print('f1_score: ', round(f1_score(y_t, pred),3))\n",
        "  print('f2_score: ',  round(fbeta_score(y_t, pred,beta =2), 3))\n",
        "  print('accuracy_score: ', round(accuracy_score(y_t, pred),3))\n",
        "  print('recall_score: ', round(recall_score(y_t, pred),3))\n",
        "  print('precision_score: ', round(precision_score(y_t, pred),3))\n",
        "  with open('/content/drive/MyDrive/Colab_Notebooks/Voting_LGBM_RF_SGD.dat', 'wb') as f:\n",
        "    dill.dump(model,f)\n"
      ],
      "metadata": {
        "id": "x2xOy2VYn1N-"
      },
      "execution_count": null,
      "outputs": []
    },
    {
      "cell_type": "code",
      "source": [
        "Voting_2(df_train_1,df_test_1)"
      ],
      "metadata": {
        "colab": {
          "base_uri": "https://localhost:8080/"
        },
        "id": "JMN-JXkhBUF0",
        "outputId": "47f825be-e796-4bad-d31b-c7ede8acc89e"
      },
      "execution_count": null,
      "outputs": [
        {
          "output_type": "stream",
          "name": "stdout",
          "text": [
            "gini:  0.725\n",
            "f1_score:  0.401\n",
            "f2_score:  0.459\n",
            "accuracy_score:  0.902\n",
            "recall_score:  0.508\n",
            "precision_score:  0.331\n"
          ]
        }
      ]
    }
  ]
}