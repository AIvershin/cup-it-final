{
  "cells": [
    {
      "cell_type": "code",
      "execution_count": null,
      "outputs": [],
      "source": [
        "import pandas as pd, numpy as np\n",
        "from pulearn import ElkanotoPuClassifier\n",
        "from sklearn.metrics import f1_score, roc_auc_score, accuracy_score, recall_score, precision_score, fbeta_score, confusion_matrix\n",
        "import dill\n",
        "from lightgbm import LGBMClassifier"
      ],
      "metadata": {
        "id": "Bil_nuhN2Uk0"
      }
    },
    {
      "cell_type": "code",
      "execution_count": null,
      "outputs": [
        {
          "data": {
            "text/plain": "   clientsegment_MAFFLUENT  transaction_category_cash_percent_amt_2m  \\\n0                      1.0                                  0.981382   \n1                      0.0                                  0.720208   \n2                      0.0                                  0.092387   \n3                      0.0                                  0.360065   \n4                      0.0                                  0.000000   \n\n   days_to_last_transaction  hdb_bki_total_pil_cnt  curr_rur_amt_cm_avg  \\\n0                  0.001651               0.070423             0.000015   \n1                  0.000000               0.084507             0.000353   \n2                  0.000000               0.042254             0.002700   \n3                  0.000000               0.126761             0.000243   \n4                  0.006604               0.000000             0.000388   \n\n   clientoutflowstatus_ACTIVE  clientsegment_A-CLUB  accountsalary_flag  \\\n0                         1.0                   0.0                 1.0   \n1                         1.0                   0.0                 1.0   \n2                         1.0                   0.0                 1.0   \n3                         1.0                   0.0                 1.0   \n4                         1.0                   0.0                 1.0   \n\n   life_time_days  gender_Мужской  ...  \\\n0        0.112304             1.0  ...   \n1        0.593742             1.0  ...   \n2        0.285335             1.0  ...   \n3        0.482896             1.0  ...   \n4        0.243569             1.0  ...   \n\n   amount_by_category_90d__summarur_amt__SUM__cashflowcategory_name__razvlechenija  \\\n0                                           0.000000                                 \n1                                           0.000000                                 \n2                                           0.000742                                 \n3                                           0.003777                                 \n4                                           0.000000                                 \n\n   avg_credit_turn_rur  dda_rur_amt_cm_avg  \\\n0             0.000003            0.000004   \n1             0.000310            0.005426   \n2             0.000080            0.000722   \n3             0.000046            0.000119   \n4             0.000001            0.000104   \n\n   by_category__amount__SUM__eoperation_type_name__vneshnij_perevod_rur  \\\n0                                           0.000000                      \n1                                           0.000019                      \n2                                           0.001115                      \n3                                           0.000000                      \n4                                           0.000000                      \n\n   amount_by_category_90d__summarur_amt__SUM__cashflowcategory_name__odezhda  \\\n0                                           0.000086                           \n1                                           0.005154                           \n2                                           0.000000                           \n3                                           0.000672                           \n4                                           0.000000                           \n\n   transaction_category_money_send_percent_amt_2m  \\\n0                                        0.000000   \n1                                        0.022774   \n2                                        0.483659   \n3                                        0.207320   \n4                                        0.000000   \n\n   profit_income_out_rur_amt_3m  diff_cur_cr_db_turn  avg_cur_cr_turn  target  \n0                      0.277817             0.922278         0.000084     0.0  \n1                      0.277276             0.922269         0.004200     1.0  \n2                      0.277608             0.925205         0.002019     1.0  \n3                      0.277765             0.922267         0.000562     1.0  \n4                      0.277977             0.922328         0.000027     0.0  \n\n[5 rows x 55 columns]",
            "text/html": "<div>\n<style scoped>\n    .dataframe tbody tr th:only-of-type {\n        vertical-align: middle;\n    }\n\n    .dataframe tbody tr th {\n        vertical-align: top;\n    }\n\n    .dataframe thead th {\n        text-align: right;\n    }\n</style>\n<table border=\"1\" class=\"dataframe\">\n  <thead>\n    <tr style=\"text-align: right;\">\n      <th></th>\n      <th>clientsegment_MAFFLUENT</th>\n      <th>transaction_category_cash_percent_amt_2m</th>\n      <th>days_to_last_transaction</th>\n      <th>hdb_bki_total_pil_cnt</th>\n      <th>curr_rur_amt_cm_avg</th>\n      <th>clientoutflowstatus_ACTIVE</th>\n      <th>clientsegment_A-CLUB</th>\n      <th>accountsalary_flag</th>\n      <th>life_time_days</th>\n      <th>gender_Мужской</th>\n      <th>...</th>\n      <th>amount_by_category_90d__summarur_amt__SUM__cashflowcategory_name__razvlechenija</th>\n      <th>avg_credit_turn_rur</th>\n      <th>dda_rur_amt_cm_avg</th>\n      <th>by_category__amount__SUM__eoperation_type_name__vneshnij_perevod_rur</th>\n      <th>amount_by_category_90d__summarur_amt__SUM__cashflowcategory_name__odezhda</th>\n      <th>transaction_category_money_send_percent_amt_2m</th>\n      <th>profit_income_out_rur_amt_3m</th>\n      <th>diff_cur_cr_db_turn</th>\n      <th>avg_cur_cr_turn</th>\n      <th>target</th>\n    </tr>\n  </thead>\n  <tbody>\n    <tr>\n      <th>0</th>\n      <td>1.0</td>\n      <td>0.981382</td>\n      <td>0.001651</td>\n      <td>0.070423</td>\n      <td>0.000015</td>\n      <td>1.0</td>\n      <td>0.0</td>\n      <td>1.0</td>\n      <td>0.112304</td>\n      <td>1.0</td>\n      <td>...</td>\n      <td>0.000000</td>\n      <td>0.000003</td>\n      <td>0.000004</td>\n      <td>0.000000</td>\n      <td>0.000086</td>\n      <td>0.000000</td>\n      <td>0.277817</td>\n      <td>0.922278</td>\n      <td>0.000084</td>\n      <td>0.0</td>\n    </tr>\n    <tr>\n      <th>1</th>\n      <td>0.0</td>\n      <td>0.720208</td>\n      <td>0.000000</td>\n      <td>0.084507</td>\n      <td>0.000353</td>\n      <td>1.0</td>\n      <td>0.0</td>\n      <td>1.0</td>\n      <td>0.593742</td>\n      <td>1.0</td>\n      <td>...</td>\n      <td>0.000000</td>\n      <td>0.000310</td>\n      <td>0.005426</td>\n      <td>0.000019</td>\n      <td>0.005154</td>\n      <td>0.022774</td>\n      <td>0.277276</td>\n      <td>0.922269</td>\n      <td>0.004200</td>\n      <td>1.0</td>\n    </tr>\n    <tr>\n      <th>2</th>\n      <td>0.0</td>\n      <td>0.092387</td>\n      <td>0.000000</td>\n      <td>0.042254</td>\n      <td>0.002700</td>\n      <td>1.0</td>\n      <td>0.0</td>\n      <td>1.0</td>\n      <td>0.285335</td>\n      <td>1.0</td>\n      <td>...</td>\n      <td>0.000742</td>\n      <td>0.000080</td>\n      <td>0.000722</td>\n      <td>0.001115</td>\n      <td>0.000000</td>\n      <td>0.483659</td>\n      <td>0.277608</td>\n      <td>0.925205</td>\n      <td>0.002019</td>\n      <td>1.0</td>\n    </tr>\n    <tr>\n      <th>3</th>\n      <td>0.0</td>\n      <td>0.360065</td>\n      <td>0.000000</td>\n      <td>0.126761</td>\n      <td>0.000243</td>\n      <td>1.0</td>\n      <td>0.0</td>\n      <td>1.0</td>\n      <td>0.482896</td>\n      <td>1.0</td>\n      <td>...</td>\n      <td>0.003777</td>\n      <td>0.000046</td>\n      <td>0.000119</td>\n      <td>0.000000</td>\n      <td>0.000672</td>\n      <td>0.207320</td>\n      <td>0.277765</td>\n      <td>0.922267</td>\n      <td>0.000562</td>\n      <td>1.0</td>\n    </tr>\n    <tr>\n      <th>4</th>\n      <td>0.0</td>\n      <td>0.000000</td>\n      <td>0.006604</td>\n      <td>0.000000</td>\n      <td>0.000388</td>\n      <td>1.0</td>\n      <td>0.0</td>\n      <td>1.0</td>\n      <td>0.243569</td>\n      <td>1.0</td>\n      <td>...</td>\n      <td>0.000000</td>\n      <td>0.000001</td>\n      <td>0.000104</td>\n      <td>0.000000</td>\n      <td>0.000000</td>\n      <td>0.000000</td>\n      <td>0.277977</td>\n      <td>0.922328</td>\n      <td>0.000027</td>\n      <td>0.0</td>\n    </tr>\n  </tbody>\n</table>\n<p>5 rows × 55 columns</p>\n</div>"
          },
          "execution_count": 6,
          "metadata": {},
          "output_type": "execute_result"
        }
      ],
      "source": [
        "#загружаем выборку\n",
        "train = pd.read_csv('train_1.csv')\n",
        "test = pd.read_csv('test_1.csv')\n",
        "train.head()"
      ],
      "metadata": {
        "id": "oLs91CCH2Uk1",
        "outputId": "e9a3422c-42ed-422e-e91b-e82bc3079170"
      }
    },
    {
      "cell_type": "code",
      "execution_count": null,
      "outputs": [
        {
          "data": {
            "text/plain": "   clientsegment_MAFFLUENT  transaction_category_cash_percent_amt_2m  \\\n0                      1.0                                       0.0   \n1                      0.0                                       0.0   \n2                      0.0                                       0.0   \n3                      1.0                                       0.0   \n4                      0.0                                       0.0   \n\n   days_to_last_transaction  hdb_bki_total_pil_cnt  curr_rur_amt_cm_avg  \\\n0                  0.000000               0.000000         0.000000e+00   \n1                  0.139241               0.140845         0.000000e+00   \n2                  0.324161               0.154930         5.725091e-08   \n3                  0.342873               0.042254         0.000000e+00   \n4                  0.000000               0.239437         0.000000e+00   \n\n   clientoutflowstatus_ACTIVE  clientsegment_A-CLUB  accountsalary_flag  \\\n0                         0.0                   0.0                 0.0   \n1                         0.0                   0.0                 0.0   \n2                         0.0                   0.0                 1.0   \n3                         0.0                   0.0                 0.0   \n4                         0.0                   0.0                 1.0   \n\n   life_time_days  gender_Мужской  ...  \\\n0        0.005171             1.0  ...   \n1        0.035137             0.0  ...   \n2        0.347786             0.0  ...   \n3        0.112039             1.0  ...   \n4        0.610846             1.0  ...   \n\n   amount_by_category_90d__summarur_amt__SUM__cashflowcategory_name__razvlechenija  \\\n0                                                0.0                                 \n1                                                0.0                                 \n2                                                0.0                                 \n3                                                0.0                                 \n4                                                0.0                                 \n\n   avg_credit_turn_rur  dda_rur_amt_cm_avg  \\\n0             0.000001        0.000000e+00   \n1             0.000000        0.000000e+00   \n2             0.000000        2.938003e-08   \n3             0.000000        4.077704e-06   \n4             0.000000        0.000000e+00   \n\n   by_category__amount__SUM__eoperation_type_name__vneshnij_perevod_rur  \\\n0                                                0.0                      \n1                                                0.0                      \n2                                                0.0                      \n3                                                0.0                      \n4                                                0.0                      \n\n   amount_by_category_90d__summarur_amt__SUM__cashflowcategory_name__odezhda  \\\n0                                                0.0                           \n1                                                0.0                           \n2                                                0.0                           \n3                                                0.0                           \n4                                                0.0                           \n\n   transaction_category_money_send_percent_amt_2m  \\\n0                                             0.0   \n1                                             0.0   \n2                                             0.0   \n3                                             0.0   \n4                                             0.0   \n\n   profit_income_out_rur_amt_3m  diff_cur_cr_db_turn  avg_cur_cr_turn  target  \n0                      0.277853             0.922278              0.0     0.0  \n1                      0.277853             0.922278              0.0     0.0  \n2                      0.279911             0.922278              0.0     0.0  \n3                      0.278231             0.922278              0.0     0.0  \n4                      0.277853             0.922278              0.0     0.0  \n\n[5 rows x 55 columns]",
            "text/html": "<div>\n<style scoped>\n    .dataframe tbody tr th:only-of-type {\n        vertical-align: middle;\n    }\n\n    .dataframe tbody tr th {\n        vertical-align: top;\n    }\n\n    .dataframe thead th {\n        text-align: right;\n    }\n</style>\n<table border=\"1\" class=\"dataframe\">\n  <thead>\n    <tr style=\"text-align: right;\">\n      <th></th>\n      <th>clientsegment_MAFFLUENT</th>\n      <th>transaction_category_cash_percent_amt_2m</th>\n      <th>days_to_last_transaction</th>\n      <th>hdb_bki_total_pil_cnt</th>\n      <th>curr_rur_amt_cm_avg</th>\n      <th>clientoutflowstatus_ACTIVE</th>\n      <th>clientsegment_A-CLUB</th>\n      <th>accountsalary_flag</th>\n      <th>life_time_days</th>\n      <th>gender_Мужской</th>\n      <th>...</th>\n      <th>amount_by_category_90d__summarur_amt__SUM__cashflowcategory_name__razvlechenija</th>\n      <th>avg_credit_turn_rur</th>\n      <th>dda_rur_amt_cm_avg</th>\n      <th>by_category__amount__SUM__eoperation_type_name__vneshnij_perevod_rur</th>\n      <th>amount_by_category_90d__summarur_amt__SUM__cashflowcategory_name__odezhda</th>\n      <th>transaction_category_money_send_percent_amt_2m</th>\n      <th>profit_income_out_rur_amt_3m</th>\n      <th>diff_cur_cr_db_turn</th>\n      <th>avg_cur_cr_turn</th>\n      <th>target</th>\n    </tr>\n  </thead>\n  <tbody>\n    <tr>\n      <th>0</th>\n      <td>1.0</td>\n      <td>0.0</td>\n      <td>0.000000</td>\n      <td>0.000000</td>\n      <td>0.000000e+00</td>\n      <td>0.0</td>\n      <td>0.0</td>\n      <td>0.0</td>\n      <td>0.005171</td>\n      <td>1.0</td>\n      <td>...</td>\n      <td>0.0</td>\n      <td>0.000001</td>\n      <td>0.000000e+00</td>\n      <td>0.0</td>\n      <td>0.0</td>\n      <td>0.0</td>\n      <td>0.277853</td>\n      <td>0.922278</td>\n      <td>0.0</td>\n      <td>0.0</td>\n    </tr>\n    <tr>\n      <th>1</th>\n      <td>0.0</td>\n      <td>0.0</td>\n      <td>0.139241</td>\n      <td>0.140845</td>\n      <td>0.000000e+00</td>\n      <td>0.0</td>\n      <td>0.0</td>\n      <td>0.0</td>\n      <td>0.035137</td>\n      <td>0.0</td>\n      <td>...</td>\n      <td>0.0</td>\n      <td>0.000000</td>\n      <td>0.000000e+00</td>\n      <td>0.0</td>\n      <td>0.0</td>\n      <td>0.0</td>\n      <td>0.277853</td>\n      <td>0.922278</td>\n      <td>0.0</td>\n      <td>0.0</td>\n    </tr>\n    <tr>\n      <th>2</th>\n      <td>0.0</td>\n      <td>0.0</td>\n      <td>0.324161</td>\n      <td>0.154930</td>\n      <td>5.725091e-08</td>\n      <td>0.0</td>\n      <td>0.0</td>\n      <td>1.0</td>\n      <td>0.347786</td>\n      <td>0.0</td>\n      <td>...</td>\n      <td>0.0</td>\n      <td>0.000000</td>\n      <td>2.938003e-08</td>\n      <td>0.0</td>\n      <td>0.0</td>\n      <td>0.0</td>\n      <td>0.279911</td>\n      <td>0.922278</td>\n      <td>0.0</td>\n      <td>0.0</td>\n    </tr>\n    <tr>\n      <th>3</th>\n      <td>1.0</td>\n      <td>0.0</td>\n      <td>0.342873</td>\n      <td>0.042254</td>\n      <td>0.000000e+00</td>\n      <td>0.0</td>\n      <td>0.0</td>\n      <td>0.0</td>\n      <td>0.112039</td>\n      <td>1.0</td>\n      <td>...</td>\n      <td>0.0</td>\n      <td>0.000000</td>\n      <td>4.077704e-06</td>\n      <td>0.0</td>\n      <td>0.0</td>\n      <td>0.0</td>\n      <td>0.278231</td>\n      <td>0.922278</td>\n      <td>0.0</td>\n      <td>0.0</td>\n    </tr>\n    <tr>\n      <th>4</th>\n      <td>0.0</td>\n      <td>0.0</td>\n      <td>0.000000</td>\n      <td>0.239437</td>\n      <td>0.000000e+00</td>\n      <td>0.0</td>\n      <td>0.0</td>\n      <td>1.0</td>\n      <td>0.610846</td>\n      <td>1.0</td>\n      <td>...</td>\n      <td>0.0</td>\n      <td>0.000000</td>\n      <td>0.000000e+00</td>\n      <td>0.0</td>\n      <td>0.0</td>\n      <td>0.0</td>\n      <td>0.277853</td>\n      <td>0.922278</td>\n      <td>0.0</td>\n      <td>0.0</td>\n    </tr>\n  </tbody>\n</table>\n<p>5 rows × 55 columns</p>\n</div>"
          },
          "execution_count": 7,
          "metadata": {},
          "output_type": "execute_result"
        }
      ],
      "source": [
        "test.head()"
      ],
      "metadata": {
        "id": "2W_TAuiZ2Uk2",
        "outputId": "a16004bd-a6b7-4e92-a013-2fad8ae09a30"
      }
    },
    {
      "cell_type": "code",
      "execution_count": null,
      "outputs": [],
      "source": [
        "X_train = train.drop('target', axis = 1).to_numpy()\n",
        "y_train = train['target'].to_numpy()\n",
        "X_test = test.drop('target', axis = 1).to_numpy()\n",
        "y_test = test['target'].to_numpy()\n",
        "del train, test"
      ],
      "metadata": {
        "id": "CYvFU9nK2Uk2"
      }
    },
    {
      "cell_type": "code",
      "execution_count": null,
      "outputs": [],
      "source": [
        "F2_b = 2\n",
        "mdls = ['PU_Est + LGBM', 'LGBM']\n",
        "P = []\n",
        "R = []\n",
        "A = []\n",
        "G = []\n",
        "F1 = []\n",
        "F2 = []"
      ],
      "metadata": {
        "id": "RKu9Fr_A2Uk2"
      }
    },
    {
      "cell_type": "code",
      "execution_count": null,
      "outputs": [
        {
          "data": {
            "text/plain": "ElkanotoPuClassifier(estimator=LGBMClassifier(learning_rate=0.099, max_depth=8,\n                                              min_child_samples=55,\n                                              num_leaves=45, random_state=42,\n                                              subsample=0.23))",
            "text/html": "<style>#sk-container-id-1 {color: black;background-color: white;}#sk-container-id-1 pre{padding: 0;}#sk-container-id-1 div.sk-toggleable {background-color: white;}#sk-container-id-1 label.sk-toggleable__label {cursor: pointer;display: block;width: 100%;margin-bottom: 0;padding: 0.3em;box-sizing: border-box;text-align: center;}#sk-container-id-1 label.sk-toggleable__label-arrow:before {content: \"▸\";float: left;margin-right: 0.25em;color: #696969;}#sk-container-id-1 label.sk-toggleable__label-arrow:hover:before {color: black;}#sk-container-id-1 div.sk-estimator:hover label.sk-toggleable__label-arrow:before {color: black;}#sk-container-id-1 div.sk-toggleable__content {max-height: 0;max-width: 0;overflow: hidden;text-align: left;background-color: #f0f8ff;}#sk-container-id-1 div.sk-toggleable__content pre {margin: 0.2em;color: black;border-radius: 0.25em;background-color: #f0f8ff;}#sk-container-id-1 input.sk-toggleable__control:checked~div.sk-toggleable__content {max-height: 200px;max-width: 100%;overflow: auto;}#sk-container-id-1 input.sk-toggleable__control:checked~label.sk-toggleable__label-arrow:before {content: \"▾\";}#sk-container-id-1 div.sk-estimator input.sk-toggleable__control:checked~label.sk-toggleable__label {background-color: #d4ebff;}#sk-container-id-1 div.sk-label input.sk-toggleable__control:checked~label.sk-toggleable__label {background-color: #d4ebff;}#sk-container-id-1 input.sk-hidden--visually {border: 0;clip: rect(1px 1px 1px 1px);clip: rect(1px, 1px, 1px, 1px);height: 1px;margin: -1px;overflow: hidden;padding: 0;position: absolute;width: 1px;}#sk-container-id-1 div.sk-estimator {font-family: monospace;background-color: #f0f8ff;border: 1px dotted black;border-radius: 0.25em;box-sizing: border-box;margin-bottom: 0.5em;}#sk-container-id-1 div.sk-estimator:hover {background-color: #d4ebff;}#sk-container-id-1 div.sk-parallel-item::after {content: \"\";width: 100%;border-bottom: 1px solid gray;flex-grow: 1;}#sk-container-id-1 div.sk-label:hover label.sk-toggleable__label {background-color: #d4ebff;}#sk-container-id-1 div.sk-serial::before {content: \"\";position: absolute;border-left: 1px solid gray;box-sizing: border-box;top: 0;bottom: 0;left: 50%;z-index: 0;}#sk-container-id-1 div.sk-serial {display: flex;flex-direction: column;align-items: center;background-color: white;padding-right: 0.2em;padding-left: 0.2em;position: relative;}#sk-container-id-1 div.sk-item {position: relative;z-index: 1;}#sk-container-id-1 div.sk-parallel {display: flex;align-items: stretch;justify-content: center;background-color: white;position: relative;}#sk-container-id-1 div.sk-item::before, #sk-container-id-1 div.sk-parallel-item::before {content: \"\";position: absolute;border-left: 1px solid gray;box-sizing: border-box;top: 0;bottom: 0;left: 50%;z-index: -1;}#sk-container-id-1 div.sk-parallel-item {display: flex;flex-direction: column;z-index: 1;position: relative;background-color: white;}#sk-container-id-1 div.sk-parallel-item:first-child::after {align-self: flex-end;width: 50%;}#sk-container-id-1 div.sk-parallel-item:last-child::after {align-self: flex-start;width: 50%;}#sk-container-id-1 div.sk-parallel-item:only-child::after {width: 0;}#sk-container-id-1 div.sk-dashed-wrapped {border: 1px dashed gray;margin: 0 0.4em 0.5em 0.4em;box-sizing: border-box;padding-bottom: 0.4em;background-color: white;}#sk-container-id-1 div.sk-label label {font-family: monospace;font-weight: bold;display: inline-block;line-height: 1.2em;}#sk-container-id-1 div.sk-label-container {text-align: center;}#sk-container-id-1 div.sk-container {/* jupyter's `normalize.less` sets `[hidden] { display: none; }` but bootstrap.min.css set `[hidden] { display: none !important; }` so we also need the `!important` here to be able to override the default hidden behavior on the sphinx rendered scikit-learn.org. See: https://github.com/scikit-learn/scikit-learn/issues/21755 */display: inline-block !important;position: relative;}#sk-container-id-1 div.sk-text-repr-fallback {display: none;}</style><div id=\"sk-container-id-1\" class=\"sk-top-container\"><div class=\"sk-text-repr-fallback\"><pre>Estimator: LGBMClassifier(learning_rate=0.099, max_depth=8, min_child_samples=55,\n               num_leaves=45, random_state=42, subsample=0.23)\np(s=1|y=1,x) ~= 0.7853450565234631\nFitted: True</pre><b>In a Jupyter environment, please rerun this cell to show the HTML representation or trust the notebook. <br />On GitHub, the HTML representation is unable to render, please try loading this page with nbviewer.org.</b></div><div class=\"sk-container\" hidden><div class=\"sk-item sk-dashed-wrapped\"><div class=\"sk-label-container\"><div class=\"sk-label sk-toggleable\"><input class=\"sk-toggleable__control sk-hidden--visually\" id=\"sk-estimator-id-1\" type=\"checkbox\" ><label for=\"sk-estimator-id-1\" class=\"sk-toggleable__label sk-toggleable__label-arrow\">ElkanotoPuClassifier</label><div class=\"sk-toggleable__content\"><pre>Estimator: LGBMClassifier(learning_rate=0.099, max_depth=8, min_child_samples=55,\n               num_leaves=45, random_state=42, subsample=0.23)\np(s=1|y=1,x) ~= 0.7853450565234631\nFitted: True</pre></div></div></div><div class=\"sk-parallel\"><div class=\"sk-parallel-item\"><div class=\"sk-item\"><div class=\"sk-label-container\"><div class=\"sk-label sk-toggleable\"><input class=\"sk-toggleable__control sk-hidden--visually\" id=\"sk-estimator-id-2\" type=\"checkbox\" ><label for=\"sk-estimator-id-2\" class=\"sk-toggleable__label sk-toggleable__label-arrow\">estimator: LGBMClassifier</label><div class=\"sk-toggleable__content\"><pre>LGBMClassifier(learning_rate=0.099, max_depth=8, min_child_samples=55,\n               num_leaves=45, random_state=42, subsample=0.23)</pre></div></div></div><div class=\"sk-serial\"><div class=\"sk-item\"><div class=\"sk-estimator sk-toggleable\"><input class=\"sk-toggleable__control sk-hidden--visually\" id=\"sk-estimator-id-3\" type=\"checkbox\" ><label for=\"sk-estimator-id-3\" class=\"sk-toggleable__label sk-toggleable__label-arrow\">LGBMClassifier</label><div class=\"sk-toggleable__content\"><pre>LGBMClassifier(learning_rate=0.099, max_depth=8, min_child_samples=55,\n               num_leaves=45, random_state=42, subsample=0.23)</pre></div></div></div></div></div></div></div></div></div></div>"
          },
          "execution_count": 10,
          "metadata": {},
          "output_type": "execute_result"
        }
      ],
      "source": [
        "#Обучим LGBM с использованием Pu classifier\n",
        "model = LGBMClassifier(random_state = 42, learning_rate=0.099, num_leaves = 45, max_depth=8,\n",
        "                       min_child_samples = 55, subsample = 0.23)\n",
        "pu_estimator = ElkanotoPuClassifier(estimator=model, hold_out_ratio=0.1)\n",
        "pu_estimator.fit(X_train, y_train)"
      ],
      "metadata": {
        "id": "k5UbKYdv2Uk3",
        "outputId": "a4e76a3c-25e6-4c28-9903-ccb441b5d218"
      }
    },
    {
      "cell_type": "code",
      "execution_count": null,
      "outputs": [],
      "source": [
        "y_pred = pu_estimator.predict_proba(X_test)\n",
        "Gini_w = round(2*roc_auc_score(y_test, y_pred)-1,3)\n",
        "\n",
        "y_pred[np.where(y_pred < 0.5)[0]] = 0\n",
        "y_pred[np.where(y_pred >= 0.5)[0]] = 1"
      ],
      "metadata": {
        "id": "IYJ5Rzxn2Uk3"
      }
    },
    {
      "cell_type": "code",
      "execution_count": null,
      "outputs": [],
      "source": [
        "#оценки метрик\n",
        "P_w = precision_score(y_test,y_pred)\n",
        "A_w = accuracy_score(y_test,y_pred)\n",
        "R_w = recall_score(y_test,y_pred)\n",
        "F1_w = f1_score(y_test,y_pred)\n",
        "F2_w = fbeta_score(y_test,y_pred,beta = F2_b)"
      ],
      "metadata": {
        "id": "Bk4JwshS2Uk3"
      }
    },
    {
      "cell_type": "code",
      "execution_count": null,
      "outputs": [],
      "source": [
        "P.append(P_w)\n",
        "R.append(R_w)\n",
        "A.append(A_w)\n",
        "G.append(Gini_w)\n",
        "F1.append(F1_w)\n",
        "F2.append(F2_w)"
      ],
      "metadata": {
        "id": "QjmFo0lX2Uk3"
      }
    },
    {
      "cell_type": "code",
      "execution_count": null,
      "outputs": [
        {
          "data": {
            "text/plain": "LGBMClassifier(colsample_bytree=0.325, learning_rate=0.07, max_depth=8,\n               min_child_samples=55, num_leaves=45, random_state=42,\n               subsample=0.23)",
            "text/html": "<style>#sk-container-id-2 {color: black;background-color: white;}#sk-container-id-2 pre{padding: 0;}#sk-container-id-2 div.sk-toggleable {background-color: white;}#sk-container-id-2 label.sk-toggleable__label {cursor: pointer;display: block;width: 100%;margin-bottom: 0;padding: 0.3em;box-sizing: border-box;text-align: center;}#sk-container-id-2 label.sk-toggleable__label-arrow:before {content: \"▸\";float: left;margin-right: 0.25em;color: #696969;}#sk-container-id-2 label.sk-toggleable__label-arrow:hover:before {color: black;}#sk-container-id-2 div.sk-estimator:hover label.sk-toggleable__label-arrow:before {color: black;}#sk-container-id-2 div.sk-toggleable__content {max-height: 0;max-width: 0;overflow: hidden;text-align: left;background-color: #f0f8ff;}#sk-container-id-2 div.sk-toggleable__content pre {margin: 0.2em;color: black;border-radius: 0.25em;background-color: #f0f8ff;}#sk-container-id-2 input.sk-toggleable__control:checked~div.sk-toggleable__content {max-height: 200px;max-width: 100%;overflow: auto;}#sk-container-id-2 input.sk-toggleable__control:checked~label.sk-toggleable__label-arrow:before {content: \"▾\";}#sk-container-id-2 div.sk-estimator input.sk-toggleable__control:checked~label.sk-toggleable__label {background-color: #d4ebff;}#sk-container-id-2 div.sk-label input.sk-toggleable__control:checked~label.sk-toggleable__label {background-color: #d4ebff;}#sk-container-id-2 input.sk-hidden--visually {border: 0;clip: rect(1px 1px 1px 1px);clip: rect(1px, 1px, 1px, 1px);height: 1px;margin: -1px;overflow: hidden;padding: 0;position: absolute;width: 1px;}#sk-container-id-2 div.sk-estimator {font-family: monospace;background-color: #f0f8ff;border: 1px dotted black;border-radius: 0.25em;box-sizing: border-box;margin-bottom: 0.5em;}#sk-container-id-2 div.sk-estimator:hover {background-color: #d4ebff;}#sk-container-id-2 div.sk-parallel-item::after {content: \"\";width: 100%;border-bottom: 1px solid gray;flex-grow: 1;}#sk-container-id-2 div.sk-label:hover label.sk-toggleable__label {background-color: #d4ebff;}#sk-container-id-2 div.sk-serial::before {content: \"\";position: absolute;border-left: 1px solid gray;box-sizing: border-box;top: 0;bottom: 0;left: 50%;z-index: 0;}#sk-container-id-2 div.sk-serial {display: flex;flex-direction: column;align-items: center;background-color: white;padding-right: 0.2em;padding-left: 0.2em;position: relative;}#sk-container-id-2 div.sk-item {position: relative;z-index: 1;}#sk-container-id-2 div.sk-parallel {display: flex;align-items: stretch;justify-content: center;background-color: white;position: relative;}#sk-container-id-2 div.sk-item::before, #sk-container-id-2 div.sk-parallel-item::before {content: \"\";position: absolute;border-left: 1px solid gray;box-sizing: border-box;top: 0;bottom: 0;left: 50%;z-index: -1;}#sk-container-id-2 div.sk-parallel-item {display: flex;flex-direction: column;z-index: 1;position: relative;background-color: white;}#sk-container-id-2 div.sk-parallel-item:first-child::after {align-self: flex-end;width: 50%;}#sk-container-id-2 div.sk-parallel-item:last-child::after {align-self: flex-start;width: 50%;}#sk-container-id-2 div.sk-parallel-item:only-child::after {width: 0;}#sk-container-id-2 div.sk-dashed-wrapped {border: 1px dashed gray;margin: 0 0.4em 0.5em 0.4em;box-sizing: border-box;padding-bottom: 0.4em;background-color: white;}#sk-container-id-2 div.sk-label label {font-family: monospace;font-weight: bold;display: inline-block;line-height: 1.2em;}#sk-container-id-2 div.sk-label-container {text-align: center;}#sk-container-id-2 div.sk-container {/* jupyter's `normalize.less` sets `[hidden] { display: none; }` but bootstrap.min.css set `[hidden] { display: none !important; }` so we also need the `!important` here to be able to override the default hidden behavior on the sphinx rendered scikit-learn.org. See: https://github.com/scikit-learn/scikit-learn/issues/21755 */display: inline-block !important;position: relative;}#sk-container-id-2 div.sk-text-repr-fallback {display: none;}</style><div id=\"sk-container-id-2\" class=\"sk-top-container\"><div class=\"sk-text-repr-fallback\"><pre>LGBMClassifier(colsample_bytree=0.325, learning_rate=0.07, max_depth=8,\n               min_child_samples=55, num_leaves=45, random_state=42,\n               subsample=0.23)</pre><b>In a Jupyter environment, please rerun this cell to show the HTML representation or trust the notebook. <br />On GitHub, the HTML representation is unable to render, please try loading this page with nbviewer.org.</b></div><div class=\"sk-container\" hidden><div class=\"sk-item\"><div class=\"sk-estimator sk-toggleable\"><input class=\"sk-toggleable__control sk-hidden--visually\" id=\"sk-estimator-id-4\" type=\"checkbox\" checked><label for=\"sk-estimator-id-4\" class=\"sk-toggleable__label sk-toggleable__label-arrow\">LGBMClassifier</label><div class=\"sk-toggleable__content\"><pre>LGBMClassifier(colsample_bytree=0.325, learning_rate=0.07, max_depth=8,\n               min_child_samples=55, num_leaves=45, random_state=42,\n               subsample=0.23)</pre></div></div></div></div></div>"
          },
          "execution_count": 15,
          "metadata": {},
          "output_type": "execute_result"
        }
      ],
      "source": [
        "#Обучим LGBM без использования Pu classifier\n",
        "model = LGBMClassifier(random_state = 42, learning_rate=0.07, num_leaves = 45, max_depth=8, min_child_samples = 55, subsample = 0.23, colsample_bytree = 0.325)\n",
        "model.fit(X_train, y_train)"
      ],
      "metadata": {
        "id": "vSRapkv82Uk3",
        "outputId": "1fb79978-7c8c-4838-e176-b1a1195c3ddb"
      }
    },
    {
      "cell_type": "code",
      "execution_count": null,
      "outputs": [],
      "source": [
        "y_pred = model.predict_proba(X_test)[:,1]\n",
        "Gini_w = round(2*roc_auc_score(y_test, y_pred)-1,3) #Критерий Джини\n",
        "\n",
        "y_pred[np.where(y_pred < 0.5)[0]] = 0\n",
        "y_pred[np.where(y_pred >= 0.5)[0]] = 1"
      ],
      "metadata": {
        "id": "gWGd67uk2Uk4"
      }
    },
    {
      "cell_type": "code",
      "execution_count": null,
      "outputs": [],
      "source": [
        "P_w = precision_score(y_test,y_pred)\n",
        "A_w = accuracy_score(y_test,y_pred)\n",
        "R_w = recall_score(y_test,y_pred)\n",
        "F1_w = f1_score(y_test,y_pred)\n",
        "F2_w = fbeta_score(y_test,y_pred,beta = F2_b)\n",
        "\n",
        "P.append(P_w)\n",
        "R.append(R_w)\n",
        "A.append(A_w)\n",
        "G.append(Gini_w)\n",
        "F1.append(F1_w)\n",
        "F2.append(F2_w)"
      ],
      "metadata": {
        "id": "jNwNpPRA2Uk4"
      }
    },
    {
      "cell_type": "code",
      "execution_count": null,
      "outputs": [
        {
          "data": {
            "text/plain": "           model  precision    recall       acc   Gini        F1        F2\n0  PU_Est + LGBM   0.210963  0.796136  0.794213  0.744  0.333543  0.512062\n1           LGBM   0.249468  0.703198  0.843963  0.746  0.368283  0.515633",
            "text/html": "<div>\n<style scoped>\n    .dataframe tbody tr th:only-of-type {\n        vertical-align: middle;\n    }\n\n    .dataframe tbody tr th {\n        vertical-align: top;\n    }\n\n    .dataframe thead th {\n        text-align: right;\n    }\n</style>\n<table border=\"1\" class=\"dataframe\">\n  <thead>\n    <tr style=\"text-align: right;\">\n      <th></th>\n      <th>model</th>\n      <th>precision</th>\n      <th>recall</th>\n      <th>acc</th>\n      <th>Gini</th>\n      <th>F1</th>\n      <th>F2</th>\n    </tr>\n  </thead>\n  <tbody>\n    <tr>\n      <th>0</th>\n      <td>PU_Est + LGBM</td>\n      <td>0.210963</td>\n      <td>0.796136</td>\n      <td>0.794213</td>\n      <td>0.744</td>\n      <td>0.333543</td>\n      <td>0.512062</td>\n    </tr>\n    <tr>\n      <th>1</th>\n      <td>LGBM</td>\n      <td>0.249468</td>\n      <td>0.703198</td>\n      <td>0.843963</td>\n      <td>0.746</td>\n      <td>0.368283</td>\n      <td>0.515633</td>\n    </tr>\n  </tbody>\n</table>\n</div>"
          },
          "execution_count": 18,
          "metadata": {},
          "output_type": "execute_result"
        }
      ],
      "source": [
        "st1_res = pd.DataFrame({\n",
        "        'model': mdls,\n",
        "        'precision': P,\n",
        "        'recall': R,\n",
        "        'acc': A,\n",
        "        'Gini': G,\n",
        "        'F1': F1,\n",
        "        'F2': F2\n",
        "    })\n",
        "#Метрики для LGBM без Pu выше\n",
        "st1_res"
      ],
      "metadata": {
        "id": "5borWzt62Uk4",
        "outputId": "3e91f161-d270-484d-c878-1d885a91da22"
      }
    },
    {
      "cell_type": "code",
      "execution_count": null,
      "outputs": [],
      "source": [],
      "metadata": {
        "id": "kYxhvAPt2Uk5"
      }
    }
  ],
  "metadata": {
    "kernelspec": {
      "display_name": "Python 3",
      "language": "python",
      "name": "python3"
    },
    "language_info": {
      "codemirror_mode": {
        "name": "ipython",
        "version": 2
      },
      "file_extension": ".py",
      "mimetype": "text/x-python",
      "name": "python",
      "nbconvert_exporter": "python",
      "pygments_lexer": "ipython2",
      "version": "2.7.6"
    },
    "colab": {
      "provenance": []
    }
  },
  "nbformat": 4,
  "nbformat_minor": 0
}